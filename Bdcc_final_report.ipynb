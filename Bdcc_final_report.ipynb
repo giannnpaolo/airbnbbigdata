{
 "cells": [
  {
   "cell_type": "code",
   "execution_count": 3,
   "metadata": {
    "execution": {
     "iopub.execute_input": "2024-06-13T11:36:11.925798Z",
     "iopub.status.busy": "2024-06-13T11:36:11.925423Z",
     "iopub.status.idle": "2024-06-13T11:36:12.011346Z",
     "shell.execute_reply": "2024-06-13T11:36:12.010620Z",
     "shell.execute_reply.started": "2024-06-13T11:36:11.925761Z"
    },
    "scrolled": true,
    "tags": []
   },
   "outputs": [
    {
     "data": {
      "application/vnd.jupyter.widget-view+json": {
       "model_id": "932658a28e974561919ccb688d84078e",
       "version_major": 2,
       "version_minor": 0
      },
      "text/plain": [
       "VBox()"
      ]
     },
     "metadata": {},
     "output_type": "display_data"
    },
    {
     "data": {
      "application/vnd.jupyter.widget-view+json": {
       "model_id": "",
       "version_major": 2,
       "version_minor": 0
      },
      "text/plain": [
       "FloatProgress(value=0.0, bar_style='info', description='Progress:', layout=Layout(height='25px', width='50%'),…"
      ]
     },
     "metadata": {},
     "output_type": "display_data"
    },
    {
     "name": "stdout",
     "output_type": "stream",
     "text": [
      "<SparkContext master=yarn appName=livy-session-0>"
     ]
    }
   ],
   "source": [
    "sc"
   ]
  },
  {
   "cell_type": "code",
   "execution_count": 4,
   "metadata": {
    "collapsed": true,
    "execution": {
     "iopub.execute_input": "2024-06-13T11:36:12.708724Z",
     "iopub.status.busy": "2024-06-13T11:36:12.708481Z",
     "iopub.status.idle": "2024-06-13T11:37:10.245621Z",
     "shell.execute_reply": "2024-06-13T11:37:10.244841Z",
     "shell.execute_reply.started": "2024-06-13T11:36:12.708697Z"
    },
    "jupyter": {
     "outputs_hidden": true
    },
    "tags": []
   },
   "outputs": [
    {
     "data": {
      "application/vnd.jupyter.widget-view+json": {
       "model_id": "09c75c60348a4476966a5e16596031ac",
       "version_major": 2,
       "version_minor": 0
      },
      "text/plain": [
       "VBox()"
      ]
     },
     "metadata": {},
     "output_type": "display_data"
    },
    {
     "data": {
      "application/vnd.jupyter.widget-view+json": {
       "model_id": "",
       "version_major": 2,
       "version_minor": 0
      },
      "text/plain": [
       "FloatProgress(value=0.0, bar_style='info', description='Progress:', layout=Layout(height='25px', width='50%'),…"
      ]
     },
     "metadata": {},
     "output_type": "display_data"
    },
    {
     "name": "stdout",
     "output_type": "stream",
     "text": [
      "Collecting pandas\n",
      "  Downloading pandas-2.2.2-cp39-cp39-manylinux_2_17_x86_64.manylinux2014_x86_64.whl (13.1 MB)\n",
      "Requirement already satisfied: pytz>=2020.1 in /usr/local/lib/python3.9/site-packages (from pandas) (2024.1)\n",
      "Collecting python-dateutil>=2.8.2\n",
      "  Downloading python_dateutil-2.9.0.post0-py2.py3-none-any.whl (229 kB)\n",
      "Collecting numpy>=1.22.4\n",
      "  Downloading numpy-1.26.4-cp39-cp39-manylinux_2_17_x86_64.manylinux2014_x86_64.whl (18.2 MB)\n",
      "Collecting tzdata>=2022.7\n",
      "  Downloading tzdata-2024.1-py2.py3-none-any.whl (345 kB)\n",
      "Requirement already satisfied: six>=1.5 in /usr/local/lib/python3.9/site-packages (from python-dateutil>=2.8.2->pandas) (1.13.0)\n",
      "Installing collected packages: tzdata, python-dateutil, numpy, pandas\n",
      "  Attempting uninstall: python-dateutil\n",
      "    Found existing installation: python-dateutil 2.8.1\n",
      "    Not uninstalling python-dateutil at /usr/lib/python3.9/site-packages, outside environment /mnt1/yarn/usercache/livy/appcache/application_1718278408708_0001/container_1718278408708_0001_01_000001/tmp/spark-53081e3b-8669-4733-b62f-a90062ff5fd9\n",
      "    Can't uninstall 'python-dateutil'. No files were found to uninstall.\n",
      "Successfully installed numpy-1.26.4 pandas-2.2.2 python-dateutil-2.9.0.post0 tzdata-2024.1\n",
      "\n",
      "Collecting matplotlib\n",
      "  Downloading matplotlib-3.9.0-cp39-cp39-manylinux_2_17_x86_64.manylinux2014_x86_64.whl (8.3 MB)\n",
      "Collecting cycler>=0.10\n",
      "  Downloading cycler-0.12.1-py3-none-any.whl (8.3 kB)\n",
      "Collecting kiwisolver>=1.3.1\n",
      "  Downloading kiwisolver-1.4.5-cp39-cp39-manylinux_2_12_x86_64.manylinux2010_x86_64.whl (1.6 MB)\n",
      "Requirement already satisfied: python-dateutil>=2.7 in ./tmp/spark-53081e3b-8669-4733-b62f-a90062ff5fd9/lib/python3.9/site-packages (from matplotlib) (2.9.0.post0)\n",
      "Collecting pyparsing>=2.3.1\n",
      "  Downloading pyparsing-3.1.2-py3-none-any.whl (103 kB)\n",
      "Collecting contourpy>=1.0.1\n",
      "  Downloading contourpy-1.2.1-cp39-cp39-manylinux_2_17_x86_64.manylinux2014_x86_64.whl (304 kB)\n",
      "Collecting fonttools>=4.22.0\n",
      "  Downloading fonttools-4.53.0-cp39-cp39-manylinux_2_17_x86_64.manylinux2014_x86_64.whl (4.6 MB)\n",
      "Collecting packaging>=20.0\n",
      "  Downloading packaging-24.1-py3-none-any.whl (53 kB)\n",
      "Collecting pillow>=8\n",
      "  Downloading pillow-10.3.0-cp39-cp39-manylinux_2_28_x86_64.whl (4.5 MB)\n",
      "Requirement already satisfied: numpy>=1.23 in ./tmp/spark-53081e3b-8669-4733-b62f-a90062ff5fd9/lib64/python3.9/site-packages (from matplotlib) (1.26.4)\n",
      "Collecting importlib-resources>=3.2.0\n",
      "  Downloading importlib_resources-6.4.0-py3-none-any.whl (38 kB)\n",
      "Collecting zipp>=3.1.0\n",
      "  Downloading zipp-3.19.2-py3-none-any.whl (9.0 kB)\n",
      "Requirement already satisfied: six>=1.5 in /usr/local/lib/python3.9/site-packages (from python-dateutil>=2.7->matplotlib) (1.13.0)\n",
      "Installing collected packages: zipp, pyparsing, pillow, packaging, kiwisolver, importlib-resources, fonttools, cycler, contourpy, matplotlib\n",
      "Successfully installed contourpy-1.2.1 cycler-0.12.1 fonttools-4.53.0 importlib-resources-6.4.0 kiwisolver-1.4.5 matplotlib-3.9.0 packaging-24.1 pillow-10.3.0 pyparsing-3.1.2 zipp-3.19.2\n",
      "\n",
      "Collecting seaborn\n",
      "  Downloading seaborn-0.13.2-py3-none-any.whl (294 kB)\n",
      "Requirement already satisfied: matplotlib!=3.6.1,>=3.4 in ./tmp/spark-53081e3b-8669-4733-b62f-a90062ff5fd9/lib64/python3.9/site-packages (from seaborn) (3.9.0)\n",
      "Requirement already satisfied: numpy!=1.24.0,>=1.20 in ./tmp/spark-53081e3b-8669-4733-b62f-a90062ff5fd9/lib64/python3.9/site-packages (from seaborn) (1.26.4)\n",
      "Requirement already satisfied: pandas>=1.2 in ./tmp/spark-53081e3b-8669-4733-b62f-a90062ff5fd9/lib64/python3.9/site-packages (from seaborn) (2.2.2)\n",
      "Requirement already satisfied: python-dateutil>=2.7 in ./tmp/spark-53081e3b-8669-4733-b62f-a90062ff5fd9/lib/python3.9/site-packages (from matplotlib!=3.6.1,>=3.4->seaborn) (2.9.0.post0)\n",
      "Requirement already satisfied: cycler>=0.10 in ./tmp/spark-53081e3b-8669-4733-b62f-a90062ff5fd9/lib/python3.9/site-packages (from matplotlib!=3.6.1,>=3.4->seaborn) (0.12.1)\n",
      "Requirement already satisfied: pillow>=8 in ./tmp/spark-53081e3b-8669-4733-b62f-a90062ff5fd9/lib64/python3.9/site-packages (from matplotlib!=3.6.1,>=3.4->seaborn) (10.3.0)\n",
      "Requirement already satisfied: importlib-resources>=3.2.0 in ./tmp/spark-53081e3b-8669-4733-b62f-a90062ff5fd9/lib/python3.9/site-packages (from matplotlib!=3.6.1,>=3.4->seaborn) (6.4.0)\n",
      "Requirement already satisfied: packaging>=20.0 in ./tmp/spark-53081e3b-8669-4733-b62f-a90062ff5fd9/lib/python3.9/site-packages (from matplotlib!=3.6.1,>=3.4->seaborn) (24.1)\n",
      "Requirement already satisfied: contourpy>=1.0.1 in ./tmp/spark-53081e3b-8669-4733-b62f-a90062ff5fd9/lib64/python3.9/site-packages (from matplotlib!=3.6.1,>=3.4->seaborn) (1.2.1)\n",
      "Requirement already satisfied: pyparsing>=2.3.1 in ./tmp/spark-53081e3b-8669-4733-b62f-a90062ff5fd9/lib/python3.9/site-packages (from matplotlib!=3.6.1,>=3.4->seaborn) (3.1.2)\n",
      "Requirement already satisfied: kiwisolver>=1.3.1 in ./tmp/spark-53081e3b-8669-4733-b62f-a90062ff5fd9/lib64/python3.9/site-packages (from matplotlib!=3.6.1,>=3.4->seaborn) (1.4.5)\n",
      "Requirement already satisfied: fonttools>=4.22.0 in ./tmp/spark-53081e3b-8669-4733-b62f-a90062ff5fd9/lib64/python3.9/site-packages (from matplotlib!=3.6.1,>=3.4->seaborn) (4.53.0)\n",
      "Requirement already satisfied: pytz>=2020.1 in /usr/local/lib/python3.9/site-packages (from pandas>=1.2->seaborn) (2024.1)\n",
      "Requirement already satisfied: tzdata>=2022.7 in ./tmp/spark-53081e3b-8669-4733-b62f-a90062ff5fd9/lib/python3.9/site-packages (from pandas>=1.2->seaborn) (2024.1)\n",
      "Requirement already satisfied: zipp>=3.1.0 in ./tmp/spark-53081e3b-8669-4733-b62f-a90062ff5fd9/lib/python3.9/site-packages (from importlib-resources>=3.2.0->matplotlib!=3.6.1,>=3.4->seaborn) (3.19.2)\n",
      "Requirement already satisfied: six>=1.5 in /usr/local/lib/python3.9/site-packages (from python-dateutil>=2.7->matplotlib!=3.6.1,>=3.4->seaborn) (1.13.0)\n",
      "Installing collected packages: seaborn\n",
      "Successfully installed seaborn-0.13.2\n",
      "\n",
      "Collecting fsspec\n",
      "  Downloading fsspec-2024.6.0-py3-none-any.whl (176 kB)\n",
      "Installing collected packages: fsspec\n",
      "Successfully installed fsspec-2024.6.0\n",
      "\n",
      "Collecting s3fs\n",
      "  Downloading s3fs-2024.6.0-py3-none-any.whl (29 kB)\n",
      "Collecting aiohttp!=4.0.0a0,!=4.0.0a1\n",
      "  Downloading aiohttp-3.9.5-cp39-cp39-manylinux_2_17_x86_64.manylinux2014_x86_64.whl (1.2 MB)\n",
      "Collecting aiobotocore<3.0.0,>=2.5.4\n",
      "  Downloading aiobotocore-2.13.0-py3-none-any.whl (76 kB)\n",
      "Requirement already satisfied: fsspec==2024.6.0.* in ./tmp/spark-53081e3b-8669-4733-b62f-a90062ff5fd9/lib/python3.9/site-packages (from s3fs) (2024.6.0)\n",
      "Collecting botocore<1.34.107,>=1.34.70\n",
      "  Downloading botocore-1.34.106-py3-none-any.whl (12.2 MB)\n",
      "Collecting aioitertools<1.0.0,>=0.5.1\n",
      "  Downloading aioitertools-0.11.0-py3-none-any.whl (23 kB)\n",
      "Collecting wrapt<2.0.0,>=1.10.10\n",
      "  Downloading wrapt-1.16.0-cp39-cp39-manylinux_2_5_x86_64.manylinux1_x86_64.manylinux_2_17_x86_64.manylinux2014_x86_64.whl (80 kB)\n",
      "Collecting async-timeout<5.0,>=4.0\n",
      "  Downloading async_timeout-4.0.3-py3-none-any.whl (5.7 kB)\n",
      "Collecting multidict<7.0,>=4.5\n",
      "  Downloading multidict-6.0.5-cp39-cp39-manylinux_2_17_x86_64.manylinux2014_x86_64.whl (123 kB)\n",
      "Collecting frozenlist>=1.1.1\n",
      "  Downloading frozenlist-1.4.1-cp39-cp39-manylinux_2_5_x86_64.manylinux1_x86_64.manylinux_2_17_x86_64.manylinux2014_x86_64.whl (240 kB)\n",
      "Collecting aiosignal>=1.1.2\n",
      "  Downloading aiosignal-1.3.1-py3-none-any.whl (7.6 kB)\n",
      "Requirement already satisfied: attrs>=17.3.0 in /usr/lib/python3.9/site-packages (from aiohttp!=4.0.0a0,!=4.0.0a1->s3fs) (20.3.0)\n",
      "Collecting yarl<2.0,>=1.0\n",
      "  Downloading yarl-1.9.4-cp39-cp39-manylinux_2_17_x86_64.manylinux2014_x86_64.whl (304 kB)\n",
      "Collecting typing_extensions>=4.0\n",
      "  Downloading typing_extensions-4.12.2-py3-none-any.whl (37 kB)\n",
      "Requirement already satisfied: urllib3<1.27,>=1.25.4 in /usr/lib/python3.9/site-packages (from botocore<1.34.107,>=1.34.70->aiobotocore<3.0.0,>=2.5.4->s3fs) (1.25.10)\n",
      "Requirement already satisfied: jmespath<2.0.0,>=0.7.1 in /usr/local/lib/python3.9/site-packages (from botocore<1.34.107,>=1.34.70->aiobotocore<3.0.0,>=2.5.4->s3fs) (1.0.1)\n",
      "Requirement already satisfied: python-dateutil<3.0.0,>=2.1 in ./tmp/spark-53081e3b-8669-4733-b62f-a90062ff5fd9/lib/python3.9/site-packages (from botocore<1.34.107,>=1.34.70->aiobotocore<3.0.0,>=2.5.4->s3fs) (2.9.0.post0)\n",
      "Requirement already satisfied: idna>=2.0 in /usr/lib/python3.9/site-packages (from yarl<2.0,>=1.0->aiohttp!=4.0.0a0,!=4.0.0a1->s3fs) (2.10)\n",
      "Requirement already satisfied: six>=1.5 in /usr/local/lib/python3.9/site-packages (from python-dateutil<3.0.0,>=2.1->botocore<1.34.107,>=1.34.70->aiobotocore<3.0.0,>=2.5.4->s3fs) (1.13.0)\n",
      "Installing collected packages: multidict, frozenlist, yarl, typing-extensions, async-timeout, aiosignal, wrapt, botocore, aioitertools, aiohttp, aiobotocore, s3fs\n",
      "Successfully installed aiobotocore-2.13.0 aiohttp-3.9.5 aioitertools-0.11.0 aiosignal-1.3.1 async-timeout-4.0.3 botocore-1.34.106 frozenlist-1.4.1 multidict-6.0.5 s3fs-2024.6.0 typing-extensions-4.12.2 wrapt-1.16.0 yarl-1.9.4\n",
      "\n",
      "WARNING: The directory '/home/.cache/pip' or its parent directory is not owned or is not writable by the current user. The cache has been disabled. Check the permissions and owner of that directory. If executing pip with sudo, you should use sudo's -H flag.\n",
      "ERROR: pip's dependency resolver does not currently take into account all the packages that are installed. This behaviour is the source of the following dependency conflicts.\n",
      "awscli 2.15.30 requires python-dateutil<=2.8.2,>=2.1, but you have python-dateutil 2.9.0.post0 which is incompatible.\n",
      "\n",
      "WARNING: The directory '/home/.cache/pip' or its parent directory is not owned or is not writable by the current user. The cache has been disabled. Check the permissions and owner of that directory. If executing pip with sudo, you should use sudo's -H flag.\n",
      "\n",
      "WARNING: The directory '/home/.cache/pip' or its parent directory is not owned or is not writable by the current user. The cache has been disabled. Check the permissions and owner of that directory. If executing pip with sudo, you should use sudo's -H flag.\n",
      "\n",
      "WARNING: The directory '/home/.cache/pip' or its parent directory is not owned or is not writable by the current user. The cache has been disabled. Check the permissions and owner of that directory. If executing pip with sudo, you should use sudo's -H flag.\n",
      "\n",
      "WARNING: The directory '/home/.cache/pip' or its parent directory is not owned or is not writable by the current user. The cache has been disabled. Check the permissions and owner of that directory. If executing pip with sudo, you should use sudo's -H flag."
     ]
    }
   ],
   "source": [
    "sc.install_pypi_package('pandas')\n",
    "sc.install_pypi_package('matplotlib')\n",
    "sc.install_pypi_package('seaborn')\n",
    "sc.install_pypi_package('fsspec')\n",
    "sc.install_pypi_package('s3fs')"
   ]
  },
  {
   "cell_type": "code",
   "execution_count": 19,
   "metadata": {
    "execution": {
     "iopub.execute_input": "2024-06-13T14:49:53.709056Z",
     "iopub.status.busy": "2024-06-13T14:49:53.708382Z",
     "iopub.status.idle": "2024-06-13T14:49:53.735221Z",
     "shell.execute_reply": "2024-06-13T14:49:53.733686Z",
     "shell.execute_reply.started": "2024-06-13T14:49:53.708998Z"
    },
    "tags": []
   },
   "outputs": [
    {
     "data": {
      "text/html": [
       "\n",
       "<script src=\"https://cdnjs.cloudflare.com/ajax/libs/jquery/2.0.3/jquery.min.js\"></script>\n",
       "<script>\n",
       "code_show=true; \n",
       "function code_toggle() {\n",
       " if (code_show){\n",
       " $('div.jp-CodeCell > div.jp-Cell-inputWrapper').hide();\n",
       " } else {\n",
       " $('div.jp-CodeCell > div.jp-Cell-inputWrapper').show();\n",
       " }\n",
       " code_show = !code_show\n",
       "} \n",
       "$( document ).ready(code_toggle);\n",
       "</script>\n",
       "<form action=\"javascript:code_toggle()\"><input type=\"submit\" value=\"Click here to toggle on/off the raw code.\"></form>\n",
       "<style>\n",
       "    @import url('https://fonts.googleapis.com/css2?family=Montserrat:ital,wght@0,100..900;1,100..900&display=swap');\n",
       "    \n",
       "    body {\n",
       "        font-weight: auto;\n",
       "        font-family: Montserrat, sans-serif;\n",
       "    }\n",
       "\n",
       "    p {\n",
       "        font-family: Montserrat, sans-serif;\n",
       "    }\n",
       "\n",
       "    h1, h2, h3{\n",
       "        font-weight: 700;\n",
       "        color: #e74646;\n",
       "    }\n",
       "\n",
       "    h4, h5, h6 {\n",
       "        color: #d93e3e;\n",
       "    }\n",
       "\n",
       "    .toc {\n",
       "      margin: 0 auto;\n",
       "      width: 80%;\n",
       "      column-count: 2;\n",
       "      font-size: 1.2em;\n",
       "      color: #bf2d2d;\n",
       "    }\n",
       "    \n",
       "    .toc a:hover, .toc a:visited {\n",
       "      color: #fa5e56;\n",
       "    }\n",
       "</style>\n"
      ],
      "text/plain": [
       "<IPython.core.display.HTML object>"
      ]
     },
     "execution_count": 19,
     "metadata": {},
     "output_type": "execute_result"
    }
   ],
   "source": [
    "from pyspark.ml.feature import Tokenizer, StopWordsRemover\n",
    "from pyspark.sql.functions import size\n",
    "from pyspark.ml.evaluation import RegressionEvaluator\n",
    "\n",
    "\n",
    "from pyspark.sql.functions import broadcast\n",
    "from pyspark.sql.functions import col, avg, lit\n",
    "from pyspark.sql import functions as F\n",
    "\n",
    "from pyspark.ml import Pipeline\n",
    "from pyspark.ml.feature import (StringIndexer, VectorAssembler, VectorIndexer)\n",
    "from pyspark.ml.regression import RandomForestRegressor\n",
    "from pyspark.ml.tuning import ParamGridBuilder, CrossValidator\n",
    "\n",
    "\n",
    "import matplotlib.pyplot as plt\n",
    "from IPython.display import display, Image, HTML\n",
    "from pyspark.sql import SparkSession\n",
    "spark = (SparkSession\n",
    "     .builder\n",
    "     .master('local[*]')\n",
    "     .config('spark.sql.execution.arrow.pyspark.enabled', 'true')\n",
    "     .getOrCreate())\n",
    "\n",
    "HTML(\"\"\"\n",
    "<script src=\"https://cdnjs.cloudflare.com/ajax/libs/jquery/2.0.3/jquery.min.js\"></script>\n",
    "<script>\n",
    "code_show=true; \n",
    "function code_toggle() {\n",
    " if (code_show){\n",
    " $('div.jp-CodeCell > div.jp-Cell-inputWrapper').hide();\n",
    " } else {\n",
    " $('div.jp-CodeCell > div.jp-Cell-inputWrapper').show();\n",
    " }\n",
    " code_show = !code_show\n",
    "} \n",
    "$( document ).ready(code_toggle);\n",
    "</script>\n",
    "<form action=\"javascript:code_toggle()\"><input type=\"submit\" value=\"Click here to toggle on/off the raw code.\"></form>\n",
    "<style>\n",
    "    @import url('https://fonts.googleapis.com/css2?family=Montserrat:ital,wght@0,100..900;1,100..900&display=swap');\n",
    "    \n",
    "    body {\n",
    "        font-weight: auto;\n",
    "        font-family: Montserrat, sans-serif;\n",
    "    }\n",
    "\n",
    "    p {\n",
    "        font-family: Montserrat, sans-serif;\n",
    "    }\n",
    "\n",
    "    h1, h2, h3{\n",
    "        font-weight: 700;\n",
    "        color: #e74646;\n",
    "    }\n",
    "\n",
    "    h4, h5, h6 {\n",
    "        color: #d93e3e;\n",
    "    }\n",
    "\n",
    "    .toc {\n",
    "      margin: 0 auto;\n",
    "      width: 80%;\n",
    "      column-count: 2;\n",
    "      font-size: 1.2em;\n",
    "      color: #bf2d2d;\n",
    "    }\n",
    "    \n",
    "    .toc a:hover, .toc a:visited {\n",
    "      color: #fa5e56;\n",
    "    }\n",
    "</style>\n",
    "\"\"\")\n"
   ]
  },
  {
   "cell_type": "markdown",
   "metadata": {
    "execution": {
     "iopub.execute_input": "2024-06-13T12:34:22.558271Z",
     "iopub.status.busy": "2024-06-13T12:34:22.557581Z",
     "iopub.status.idle": "2024-06-13T12:34:22.715882Z",
     "shell.execute_reply": "2024-06-13T12:34:22.713915Z",
     "shell.execute_reply.started": "2024-06-13T12:34:22.558214Z"
    }
   },
   "source": [
    "![title](main.png)\n",
    "<center><b>Image 1.</b> Title.</center>"
   ]
  },
  {
   "cell_type": "markdown",
   "metadata": {
    "jp-MarkdownHeadingCollapsed": true,
    "tags": []
   },
   "source": [
    "<a name=\"top\"></a>\n",
    "<h2 style=\"font-weight: 700;\">Table of Contents</h2>\n",
    "<img src=\"decor.png\">\n",
    "<div class=\"toc\">\n",
    "\n",
    "[ref0]: #abs\n",
    "[Abstract][ref0]\n",
    "\n",
    "[ref1]: #prob\n",
    "[Problem Statement][ref1]\n",
    "\n",
    "[ref2]: #motiv\n",
    "[Motivation][ref2]\n",
    "\n",
    "[ref3]: #dat\n",
    "[Data Source][ref3]\n",
    "\n",
    "[ref5]: #metho\n",
    "[Methodology][ref5]\n",
    "\n",
    "[ref6]: #feature\n",
    "[Feature Derivation][ref6]\n",
    "\n",
    "[ref7]: #anomaly\n",
    "[Outlier analysis][ref7]\n",
    "\n",
    "[ref8]: #Baseline\n",
    "[Setting a Baseline][ref8]\n",
    "\n",
    "[ref9]: #train\n",
    "[Training and Hypertuning Model][ref9]\n",
    "\n",
    "[ref10]: #imp\n",
    "[Feature importances][ref10]\n",
    "\n",
    "[ref11]: #conc\n",
    "[Conclusion][ref11]\n",
    "\n",
    "[ref12]: #reco\n",
    "[Recommendation][ref12]\n",
    "\n",
    "[ref13]: #ref\n",
    "[References][ref13]\n",
    "\n",
    "[ref14]: #disclosure\n",
    "[Disclosure][ref14]\n",
    "\n",
    "</div>\n"
   ]
  },
  {
   "cell_type": "markdown",
   "metadata": {
    "tags": []
   },
   "source": [
    "<a name=\"abs\"></a>\n",
    "<h2>Abstract</h2>\n",
    "<img src=\"decor.png\">\n",
    "\n",
    "This project embarked on a creation of a model that would.  predict the occupancy rates of Airbnb listings by leveraging machine learning techniques on preprocessed and feature-engineered data derived from two datasets: listings and reviews. Initially, feature derivation was performed to create actionable features such as average reviews per month, host experience, and average price per night. This was followed by filtering and preprocessing the raw data to eliminate extreme and impossible values, ensuring data integrity. Subsequently, outlier analysis was conducted to refine the dataset further.\n",
    "\n",
    "A robust machine learning model was then trained to predict the occupancy rates, significantly outperforming the baseline model. The model's predictions were further analyzed to determine feature importance, offering valuable insights into the contributions of each feature to the occupancy rate. This analysis provides actionable intelligence for optimizing Airbnb listings, ultimately aiding hosts in improving their occupancy rates. The results underscore the efficacy of using advanced data processing and machine learning techniques in understanding and predicting occupancy trends in the short-term rental market."
   ]
  },
  {
   "cell_type": "markdown",
   "metadata": {
    "jp-MarkdownHeadingCollapsed": true
   },
   "source": [
    "<a name=\"prob\"></a>\n",
    "<h2>Problem statement</h2>\n",
    "<img src=\"decor.png\">\n",
    "\n",
    "\n",
    "Ever since it's inception, Airbnb has seen exponential growth in it's business, with the number of listings going from less than 200,000 in 2016, to over 1 million in 2023 in the United States alone. The platform has become a lucrative venture for many property owners, giving them a chance to gain substantial passive income by renting out their living spaces. However, with this growth have come problems. Market saturation over the years has led to much lower occupancy rates for many, and with such a vast variety of potential reasons, it is getting tougher for the owners to stay competitive in today's market.$^{[1]}$\n",
    "\n",
    "Given this context, the aim of this project is to develop a machine learning model that predicts Airbnb occupancy rates by leveraging data from Airbnb listings and reviews. By identifying key features that influence occupancy, the model can provide actionable insights for hosts to optimize their listings, improve guest satisfaction, and ultimately increase their occupancy rates. This study also aims to highlight the most important factors contributing to occupancy variations, helping hosts to make data-driven decisions and enhance their rental strategies, in turn helping the company generate more revenue."
   ]
  },
  {
   "cell_type": "markdown",
   "metadata": {},
   "source": [
    "<a name=\"motiv\"></a>\n",
    "<h2>Motivation</h2>\n",
    "<img src=\"decor.png\">\n",
    "\n",
    "\n",
    "\n",
    "Airbnb has become a powerhouse in the travel and accommodation industry, generating substantial revenue in 2023 of over 9 billion dollars. Even in 2024, the company surpassed it's previous year Q1 revenue and is on target to reach a new high for the financial year. $^{[2]}$  The company's impressive financial performance showcases its potential as a lucrative venture, both for the company and for property owners who list their spaces on the platform. With such a strong revenue base, it is clear that there are already significant opportunities for income generation.\n",
    "\n",
    "Given this context, the authors saw an opportunity to tackle a prevalent problem within Airbnb's ecosystem—predicting and optimizing occupancy rates. By addressing this challenge, we aim to help property owners maximize their earnings and, in turn, contribute to Airbnb's overall profitability. Understanding the factors that influence occupancy rates and leveraging advanced machine learning techniques to predict these rates can provide actionable insights for hosts. These insights will enable them to make data-driven decisions, ultimately enhance their revenue.\n",
    "\n",
    "In essence, the motivation stems from the realization that improving occupancy rates not only benefits individual property owners but also strengthens Airbnb's market position, making it a win-win scenario. By solving this critical problem, the authors aim to contribute to the continued financial success and growth of Airbnb and its community of hosts."
   ]
  },
  {
   "cell_type": "markdown",
   "metadata": {},
   "source": [
    "<a name=\"dat\"></a>\n",
    "<h2>Data Source</h2>\n",
    "<img src=\"decor.png\">\n",
    "\n",
    "<h3 style=\" color: #d93e3e\">Inside Airbnb Dataset</h3>\n",
    "\n",
    "\n",
    "The datasets were pulled from the Asian Institute of Management's (AIM) public data directory. While the `insideairbnb` repository has multiple datasets, only two were used for this study. The `reviews` and the `listings` data for countries in europe and the USA were employed. The dataset is also  openly available on the inside airbnb website.\n",
    "\n",
    "\n",
    "The Features per dataset and samples are as below:\n",
    "\n",
    "### LISTINGS DATA\n",
    "\n",
    "| Feature Name                        | Data Type |\n",
    "|-------------------------------------|-----------|\n",
    "| id                                  | Integer   |\n",
    "| name                                | String    |\n",
    "| host_id                             | Integer   |\n",
    "| host_name                           | String    |\n",
    "| neighbourhood_group                 | String    |\n",
    "| neighbourhood                       | String    |\n",
    "| latitude                            | Float     |\n",
    "| longitude                           | Float     |\n",
    "| room_type                           | String    |\n",
    "| price                               | Float     |\n",
    "| minimum_nights                      | Integer   |\n",
    "| number_of_reviews                   | Integer   |\n",
    "| last_review                         | Date      |\n",
    "| reviews_per_month                   | Float     |\n",
    "| calculated_host_listings_count      | Integer   |\n",
    "| availability_365                    | Integer   |\n",
    "| number_of_reviews_ltm               | Integer   |\n",
    "| license                             | String    |\n",
    "    \n",
    "<center><b>Table 1.</b> Data description of the listings dataset.</center>\n",
    "    \n",
    "\n",
    "A sample of the dataset has been provided below:"
   ]
  },
  {
   "cell_type": "code",
   "execution_count": 9,
   "metadata": {
    "execution": {
     "iopub.execute_input": "2024-06-13T12:31:17.774518Z",
     "iopub.status.busy": "2024-06-13T12:31:17.773853Z",
     "iopub.status.idle": "2024-06-13T12:31:21.818052Z",
     "shell.execute_reply": "2024-06-13T12:31:21.817226Z",
     "shell.execute_reply.started": "2024-06-13T12:31:17.774459Z"
    },
    "scrolled": true,
    "tags": []
   },
   "outputs": [
    {
     "data": {
      "text/html": [
       "<div>\n",
       "<style scoped>\n",
       "    .dataframe tbody tr th:only-of-type {\n",
       "        vertical-align: middle;\n",
       "    }\n",
       "\n",
       "    .dataframe tbody tr th {\n",
       "        vertical-align: top;\n",
       "    }\n",
       "\n",
       "    .dataframe thead th {\n",
       "        text-align: right;\n",
       "    }\n",
       "</style>\n",
       "<table border=\"1\" class=\"dataframe\">\n",
       "  <thead>\n",
       "    <tr style=\"text-align: right;\">\n",
       "      <th></th>\n",
       "      <th>id</th>\n",
       "      <th>name</th>\n",
       "      <th>host_id</th>\n",
       "      <th>host_name</th>\n",
       "      <th>neighbourhood_group</th>\n",
       "      <th>neighbourhood</th>\n",
       "      <th>latitude</th>\n",
       "      <th>longitude</th>\n",
       "      <th>room_type</th>\n",
       "      <th>price</th>\n",
       "      <th>minimum_nights</th>\n",
       "      <th>number_of_reviews</th>\n",
       "      <th>last_review</th>\n",
       "      <th>reviews_per_month</th>\n",
       "      <th>calculated_host_listings_count</th>\n",
       "      <th>availability_365</th>\n",
       "    </tr>\n",
       "  </thead>\n",
       "  <tbody>\n",
       "    <tr>\n",
       "      <th>0</th>\n",
       "      <td>2384</td>\n",
       "      <td>Hyde Park-Walk to UChicago or Theological Semi...</td>\n",
       "      <td>2613</td>\n",
       "      <td>Rebecca</td>\n",
       "      <td>None</td>\n",
       "      <td>Hyde Park</td>\n",
       "      <td>41.78886490087766</td>\n",
       "      <td>-87.58670890962763</td>\n",
       "      <td>Private room</td>\n",
       "      <td>50</td>\n",
       "      <td>2</td>\n",
       "      <td>117</td>\n",
       "      <td>2018-05-14</td>\n",
       "      <td>2.86</td>\n",
       "      <td>1</td>\n",
       "      <td>195</td>\n",
       "    </tr>\n",
       "    <tr>\n",
       "      <th>1</th>\n",
       "      <td>4505</td>\n",
       "      <td>One great apartment, 332 great reviews, 1 bad ...</td>\n",
       "      <td>5775</td>\n",
       "      <td>Craig &amp; Kathleen</td>\n",
       "      <td>None</td>\n",
       "      <td>South Lawndale</td>\n",
       "      <td>41.854952624963666</td>\n",
       "      <td>-87.69696178980683</td>\n",
       "      <td>Entire home/apt</td>\n",
       "      <td>120</td>\n",
       "      <td>2</td>\n",
       "      <td>346</td>\n",
       "      <td>2018-05-10</td>\n",
       "      <td>3.09</td>\n",
       "      <td>1</td>\n",
       "      <td>184</td>\n",
       "    </tr>\n",
       "    <tr>\n",
       "      <th>2</th>\n",
       "      <td>6715</td>\n",
       "      <td>Lincoln Park Oasis - Unit 2 ONLY</td>\n",
       "      <td>15365</td>\n",
       "      <td>Reem</td>\n",
       "      <td>None</td>\n",
       "      <td>Lincoln Park</td>\n",
       "      <td>41.92926222112926</td>\n",
       "      <td>-87.66009125412157</td>\n",
       "      <td>Entire home/apt</td>\n",
       "      <td>255</td>\n",
       "      <td>4</td>\n",
       "      <td>85</td>\n",
       "      <td>2018-05-14</td>\n",
       "      <td>0.78</td>\n",
       "      <td>2</td>\n",
       "      <td>291</td>\n",
       "    </tr>\n",
       "    <tr>\n",
       "      <th>3</th>\n",
       "      <td>7126</td>\n",
       "      <td>Tiny Studio Apartment 94 Walk Score</td>\n",
       "      <td>17928</td>\n",
       "      <td>Sarah</td>\n",
       "      <td>None</td>\n",
       "      <td>West Town</td>\n",
       "      <td>41.9028949379226</td>\n",
       "      <td>-87.68182159890866</td>\n",
       "      <td>Entire home/apt</td>\n",
       "      <td>80</td>\n",
       "      <td>2</td>\n",
       "      <td>287</td>\n",
       "      <td>2018-04-20</td>\n",
       "      <td>4.89</td>\n",
       "      <td>1</td>\n",
       "      <td>289</td>\n",
       "    </tr>\n",
       "    <tr>\n",
       "      <th>4</th>\n",
       "      <td>9811</td>\n",
       "      <td>Barbara's Hideaway - Old Town</td>\n",
       "      <td>33004</td>\n",
       "      <td>At Home Inn</td>\n",
       "      <td>None</td>\n",
       "      <td>Lincoln Park</td>\n",
       "      <td>41.917689236120225</td>\n",
       "      <td>-87.63787943696494</td>\n",
       "      <td>Entire home/apt</td>\n",
       "      <td>150</td>\n",
       "      <td>3</td>\n",
       "      <td>19</td>\n",
       "      <td>2018-03-18</td>\n",
       "      <td>0.38</td>\n",
       "      <td>11</td>\n",
       "      <td>312</td>\n",
       "    </tr>\n",
       "  </tbody>\n",
       "</table>\n",
       "</div>"
      ],
      "text/plain": [
       "     id                                               name host_id  \\\n",
       "0  2384  Hyde Park-Walk to UChicago or Theological Semi...    2613   \n",
       "1  4505  One great apartment, 332 great reviews, 1 bad ...    5775   \n",
       "2  6715                   Lincoln Park Oasis - Unit 2 ONLY   15365   \n",
       "3  7126                Tiny Studio Apartment 94 Walk Score   17928   \n",
       "4  9811                      Barbara's Hideaway - Old Town   33004   \n",
       "\n",
       "          host_name neighbourhood_group   neighbourhood            latitude  \\\n",
       "0           Rebecca                None       Hyde Park   41.78886490087766   \n",
       "1  Craig & Kathleen                None  South Lawndale  41.854952624963666   \n",
       "2              Reem                None    Lincoln Park   41.92926222112926   \n",
       "3             Sarah                None       West Town    41.9028949379226   \n",
       "4       At Home Inn                None    Lincoln Park  41.917689236120225   \n",
       "\n",
       "            longitude        room_type price minimum_nights number_of_reviews  \\\n",
       "0  -87.58670890962763     Private room    50              2               117   \n",
       "1  -87.69696178980683  Entire home/apt   120              2               346   \n",
       "2  -87.66009125412157  Entire home/apt   255              4                85   \n",
       "3  -87.68182159890866  Entire home/apt    80              2               287   \n",
       "4  -87.63787943696494  Entire home/apt   150              3                19   \n",
       "\n",
       "  last_review reviews_per_month calculated_host_listings_count  \\\n",
       "0  2018-05-14              2.86                              1   \n",
       "1  2018-05-10              3.09                              1   \n",
       "2  2018-05-14              0.78                              2   \n",
       "3  2018-04-20              4.89                              1   \n",
       "4  2018-03-18              0.38                             11   \n",
       "\n",
       "  availability_365  \n",
       "0              195  \n",
       "1              184  \n",
       "2              291  \n",
       "3              289  \n",
       "4              312  "
      ]
     },
     "execution_count": 9,
     "metadata": {},
     "output_type": "execute_result"
    }
   ],
   "source": [
    "import pandas as pd\n",
    "spark.read.csv('/mnt/data/public/insideairbnb/data.insideairbnb.com/united-states/il/chicago/2018-05-18/visualisations/listings.csv'\n",
    "               , header = True).limit(5).toPandas()"
   ]
  },
  {
   "cell_type": "markdown",
   "metadata": {},
   "source": [
    "<center><b>DataFrame 1.</b>Sample of listings dataset</center>"
   ]
  },
  {
   "cell_type": "markdown",
   "metadata": {
    "execution": {
     "iopub.execute_input": "2024-06-13T05:51:26.615822Z",
     "iopub.status.busy": "2024-06-13T05:51:26.615592Z",
     "iopub.status.idle": "2024-06-13T05:51:26.667181Z",
     "shell.execute_reply": "2024-06-13T05:51:26.666583Z",
     "shell.execute_reply.started": "2024-06-13T05:51:26.615797Z"
    },
    "tags": []
   },
   "source": [
    "### REVIEWS DATA\n",
    "\n",
    "| Feature Name    | Data Type |\n",
    "|-----------------|-----------|\n",
    "| listing_id      | Integer   |\n",
    "| id              | Integer   |\n",
    "| date            | Date      |\n",
    "| reviewer_id     | Integer   |\n",
    "| reviewer_name   | String    |\n",
    "| comments        | String    |\n",
    "<center><b>Table 2.</b> Data description of the reviews dataset.</center>\n",
    "\n",
    "A sample of the dataset has been provided below:\n"
   ]
  },
  {
   "cell_type": "code",
   "execution_count": 10,
   "metadata": {
    "execution": {
     "iopub.execute_input": "2024-06-13T12:31:59.909471Z",
     "iopub.status.busy": "2024-06-13T12:31:59.908412Z",
     "iopub.status.idle": "2024-06-13T12:32:00.491532Z",
     "shell.execute_reply": "2024-06-13T12:32:00.490416Z",
     "shell.execute_reply.started": "2024-06-13T12:31:59.909411Z"
    },
    "scrolled": true
   },
   "outputs": [
    {
     "data": {
      "text/html": [
       "<div>\n",
       "<style scoped>\n",
       "    .dataframe tbody tr th:only-of-type {\n",
       "        vertical-align: middle;\n",
       "    }\n",
       "\n",
       "    .dataframe tbody tr th {\n",
       "        vertical-align: top;\n",
       "    }\n",
       "\n",
       "    .dataframe thead th {\n",
       "        text-align: right;\n",
       "    }\n",
       "</style>\n",
       "<table border=\"1\" class=\"dataframe\">\n",
       "  <thead>\n",
       "    <tr style=\"text-align: right;\">\n",
       "      <th></th>\n",
       "      <th>listing_id</th>\n",
       "      <th>id</th>\n",
       "      <th>date</th>\n",
       "      <th>reviewer_id</th>\n",
       "      <th>reviewer_name</th>\n",
       "      <th>comments</th>\n",
       "    </tr>\n",
       "  </thead>\n",
       "  <tbody>\n",
       "    <tr>\n",
       "      <th>0</th>\n",
       "      <td>2384</td>\n",
       "      <td>25218143</td>\n",
       "      <td>2015-01-09</td>\n",
       "      <td>14385014</td>\n",
       "      <td>Ivan</td>\n",
       "      <td>it's a wonderful trip experience. I didn't exc...</td>\n",
       "    </tr>\n",
       "    <tr>\n",
       "      <th>1</th>\n",
       "      <td>2384</td>\n",
       "      <td>28475392</td>\n",
       "      <td>2015-03-24</td>\n",
       "      <td>16241178</td>\n",
       "      <td>Namhaitou</td>\n",
       "      <td>This is my first trip using Airbnb. I was a li...</td>\n",
       "    </tr>\n",
       "    <tr>\n",
       "      <th>2</th>\n",
       "      <td>2384</td>\n",
       "      <td>30273263</td>\n",
       "      <td>2015-04-19</td>\n",
       "      <td>26101401</td>\n",
       "      <td>Patrick</td>\n",
       "      <td>The reservation was canceled 80 days before ar...</td>\n",
       "    </tr>\n",
       "    <tr>\n",
       "      <th>3</th>\n",
       "      <td>2384</td>\n",
       "      <td>30974202</td>\n",
       "      <td>2015-04-30</td>\n",
       "      <td>26247321</td>\n",
       "      <td>Cristina</td>\n",
       "      <td>Sólo puedo decir cosas buenas de Rebecca. La h...</td>\n",
       "    </tr>\n",
       "    <tr>\n",
       "      <th>4</th>\n",
       "      <td>2384</td>\n",
       "      <td>31363208</td>\n",
       "      <td>2015-05-04</td>\n",
       "      <td>31293837</td>\n",
       "      <td>SuJung</td>\n",
       "      <td>Rebecca was an absolutely wonderful host.</td>\n",
       "    </tr>\n",
       "  </tbody>\n",
       "</table>\n",
       "</div>"
      ],
      "text/plain": [
       "  listing_id        id        date reviewer_id reviewer_name  \\\n",
       "0       2384  25218143  2015-01-09    14385014          Ivan   \n",
       "1       2384  28475392  2015-03-24    16241178     Namhaitou   \n",
       "2       2384  30273263  2015-04-19    26101401       Patrick   \n",
       "3       2384  30974202  2015-04-30    26247321      Cristina   \n",
       "4       2384  31363208  2015-05-04    31293837        SuJung   \n",
       "\n",
       "                                            comments  \n",
       "0  it's a wonderful trip experience. I didn't exc...  \n",
       "1  This is my first trip using Airbnb. I was a li...  \n",
       "2  The reservation was canceled 80 days before ar...  \n",
       "3  Sólo puedo decir cosas buenas de Rebecca. La h...  \n",
       "4          Rebecca was an absolutely wonderful host.  "
      ]
     },
     "execution_count": 10,
     "metadata": {},
     "output_type": "execute_result"
    }
   ],
   "source": [
    "import pandas as pd\n",
    "spark.read.csv('/mnt/data/public/insideairbnb/data.insideairbnb.com/united-states/il/chicago/2018-05-18/data/reviews.csv.gz'\n",
    "               , header = True).limit(5).toPandas()"
   ]
  },
  {
   "cell_type": "markdown",
   "metadata": {},
   "source": [
    "<center><b>DataFrame 2.</b> Sample of reviews dataset.</center>"
   ]
  },
  {
   "attachments": {},
   "cell_type": "markdown",
   "metadata": {},
   "source": [
    "The study uses 3 parquet files as the data processed, hence in order to get the size out, the three were placed in a folder and their size was outputed. The total processed data amount to approximately 86GB, which is above the required 50GB for the study mandates.\n",
    "<img src=\"size.png\">\n",
    "<center><b>Image 2.</b> Data size.</center>"
   ]
  },
  {
   "attachments": {},
   "cell_type": "markdown",
   "metadata": {},
   "source": [
    "Proof of them being in the bucket has been provided below:\n",
    "<img src=\"proof.png\">\n",
    "<center><b>Image 3.</b> Proof of file.</center>"
   ]
  },
  {
   "cell_type": "markdown",
   "metadata": {},
   "source": [
    "Image of instance types\n",
    "<img src=\"instance.png\">\n",
    "<center><b>Image 4.</b> instances tab.</center>"
   ]
  },
  {
   "cell_type": "markdown",
   "metadata": {},
   "source": [
    "<a name=\"metho\"></a>\n",
    "<h2>Methodology</h2>\n",
    "<img src=\"decor.png\">\n",
    "<img src=\"Meth.png\">\n",
    "<center><b>Image 5.</b> Methodology.</center>\n"
   ]
  },
  {
   "cell_type": "markdown",
   "metadata": {},
   "source": [
    "<a name=\"feature\"></a>\n",
    "<h2>Feature Derivation</h2>\n",
    "<img src=\"decor.png\">\n",
    "\n",
    "***\n",
    "\n",
    "Initially, it was clear that many of the available features were either irrelevant or insufficient on their own, requiring additional context or external data to become actionable. This realization led to a feature derivation process, where existing features were transformed and combined to create more insightful and predictive variables for the ML model.\n",
    "\n",
    "The derived features are as follows:\n",
    "\n",
    "| Feature                | Description                                                                                                      | Data Type | Formula |\n",
    "|------------------------|------------------------------------------------------------------------------------------------------------------|-----------|---------|\n",
    "| `listing_id`           | Unique identifier for an Airbnb listing. Serves as the key feature for merging datasets.                         | double    | N/A     |\n",
    "| `avg_reviews_per_month`| Average number of reviews per month for a listing across all active periods.                                      | double    | `mean('reviews_per_month')` |\n",
    "| `host_experience`      | Calculated as total reviews divided by total listings for an ID, indicating host engagement and guest feedback.  | double    | `col('total_reviews') / col('total_host_listings_count')` |\n",
    "| `average_nights`       | Average minimum number of nights a guest must stay, based on host settings.                                       | double    | `col('total_minimum_nights') / col('total_host_listings_count')` |\n",
    "| `avg_price`            | Average price per listing ID.                                                                                    | double    | `mean('price')` |\n",
    "| `avg_price_per_night`  | Average of price divided by minimum number of nights, providing nightly charge insights.                         | double    | `col('price') / col('minimum_nights')` |\n",
    "| `occupancy`            | Target variable derived from `availability_365`, indicating occupancy rate over a 365-day period.                | double    | `1 - (col('availability_365') / 365)` |\n",
    "| `avg_len_reviews`      | Average length of reviews for each listing, offering insight into the typical amount of feedback from guests.    | double    | `F.mean(F.length('comments'))` |\n",
    "\n",
    "\n",
    "<center><b>Table 3.</b> Data description of the derived features from listings and reviews data.</center>\n",
    "\n",
    "\n",
    "\n",
    "***Note*** - The dataframes were combined further down the pipeline to ensure reduction in run time."
   ]
  },
  {
   "cell_type": "code",
   "execution_count": 4,
   "metadata": {
    "execution": {
     "iopub.execute_input": "2024-06-13T11:17:40.138278Z",
     "iopub.status.busy": "2024-06-13T11:17:40.138049Z",
     "iopub.status.idle": "2024-06-13T11:17:47.424437Z",
     "shell.execute_reply": "2024-06-13T11:17:47.423861Z",
     "shell.execute_reply.started": "2024-06-13T11:17:40.138254Z"
    },
    "tags": []
   },
   "outputs": [
    {
     "data": {
      "application/vnd.jupyter.widget-view+json": {
       "model_id": "d987263547604600a570ec16d4378642",
       "version_major": 2,
       "version_minor": 0
      },
      "text/plain": [
       "VBox()"
      ]
     },
     "metadata": {},
     "output_type": "display_data"
    },
    {
     "data": {
      "application/vnd.jupyter.widget-view+json": {
       "model_id": "",
       "version_major": 2,
       "version_minor": 0
      },
      "text/plain": [
       "FloatProgress(value=0.0, bar_style='info', description='Progress:', layout=Layout(height='25px', width='50%'),…"
      ]
     },
     "metadata": {},
     "output_type": "display_data"
    }
   ],
   "source": [
    "listings_df = spark.read.parquet('s3://bigdatabucket25/e-M1KJBZ3J7W2M8EV089382575/listings.parquet')\n",
    "df_reviews = spark.read.parquet('s3://bigdatabucket25/e-M1KJBZ3J7W2M8EV089382575/reviews.parquet')"
   ]
  },
  {
   "cell_type": "code",
   "execution_count": 5,
   "metadata": {
    "execution": {
     "iopub.execute_input": "2024-06-13T11:17:47.426012Z",
     "iopub.status.busy": "2024-06-13T11:17:47.425754Z",
     "iopub.status.idle": "2024-06-13T11:17:49.692655Z",
     "shell.execute_reply": "2024-06-13T11:17:49.692061Z",
     "shell.execute_reply.started": "2024-06-13T11:17:47.425974Z"
    },
    "tags": []
   },
   "outputs": [
    {
     "data": {
      "application/vnd.jupyter.widget-view+json": {
       "model_id": "d1b9ad6358db466184e53422dfb49a1a",
       "version_major": 2,
       "version_minor": 0
      },
      "text/plain": [
       "VBox()"
      ]
     },
     "metadata": {},
     "output_type": "display_data"
    },
    {
     "data": {
      "application/vnd.jupyter.widget-view+json": {
       "model_id": "",
       "version_major": 2,
       "version_minor": 0
      },
      "text/plain": [
       "FloatProgress(value=0.0, bar_style='info', description='Progress:', layout=Layout(height='25px', width='50%'),…"
      ]
     },
     "metadata": {},
     "output_type": "display_data"
    }
   ],
   "source": [
    "listings_df =listings_df.withColumn('occupancy_days',\n",
    "                                    1- (col('availability_365')/365))\n",
    "listings_df =listings_df.withColumn('price_per_night',\n",
    "                                    col('price')/ col('minimum_nights'))\n",
    "aggregated_df = listings_df.groupby('id').agg(\n",
    "    F.collect_set('room_type').alias('room_types'),\n",
    "    F.sum('number_of_reviews').alias('total_reviews'),\n",
    "    F.mean('reviews_per_month').alias('avg_reviews_per_month'),\n",
    "    F.sum('calculated_host_listings_count').alias('total_host_listings_count'),\n",
    "    F.sum('minimum_nights').alias('total_minimum_nights'),\n",
    "    F.mean('occupancy_days').alias('occupancy'),\n",
    "    F.mean('price_per_night').alias('avg_price_per_night'),\n",
    "    F.mean('price').alias('avg_price')).persist()\n",
    "\n",
    "aggregated_df = aggregated_df.withColumn('average_nights', \n",
    "                                         col('total_minimum_nights') / col('total_host_listings_count'))\n",
    "aggregated_df = aggregated_df.withColumn('host_experience', \n",
    "                                         col('total_reviews') / col('total_host_listings_count')\n",
    "                                        ).withColumnRenamed('id','listing_id')\n",
    "aggregated_df = aggregated_df.dropna(how = 'any')\n",
    "aggregated_df = aggregated_df.persist()\n",
    "\n",
    "\n",
    "df_reviews = df_reviews.na.fill('None')\n",
    "tokenizer = Tokenizer(inputCol=\"comments\", outputCol=\"words\")\n",
    "wordsData = tokenizer.transform(df_reviews)\n",
    "remover = StopWordsRemover(inputCol=\"words\", outputCol=\"filtered_words\")\n",
    "words_removed = remover.transform(wordsData)\n",
    "words_removed = words_removed.withColumn('len', size(col('filtered_words')))\n",
    "words_removed = words_removed.groupby('listing_id').agg({'len':'mean'}\n",
    "                ).withColumnRenamed( 'avg(len)', 'avg_len_reviews'\n",
    "                                    ).select('listing_id', 'avg_len_reviews').persist()"
   ]
  },
  {
   "cell_type": "markdown",
   "metadata": {
    "tags": []
   },
   "source": [
    "<a name=\"met\"></a>\n",
    "<h2>Data Exploration and Preprocessing</h2>\n",
    "<img src=\"decor.png\">\n",
    "\n",
    "***\n",
    "\n",
    "\n",
    "\n",
    "\n",
    "During the initial exploratory data analysis (EDA), several graphs and visualizations revealed some unexpected and unusual patterns. On further investigation, the authors identified that certain features contained extreme or impossible values, which needed to be addressed to ensure data quality and model accuracy.\n",
    "\n",
    "For example, the `avg_price` feature exhibited some negative values, which are clearly unrealistic for a pricing attribute. Such anomalies necessitated a thorough cleaning and preprocessing step to remove outliers and erroneous data points.\n",
    "\n",
    "Key steps taken during EDA and preprocessing included:\n",
    "\n",
    "- **Filtering Extreme Values:** Features with extreme values that were beyond reasonable limits were also scrutinized. This included setting logical bounds for features like `average_nights` to ensure they fell within a plausible range.\n",
    "- **Handling Missing Data:** Missing values were addressed through imputation methods or by removing records with significant missing information.\n",
    "\n",
    "Through these steps, the data was cleaned and preprocessed to better reflect realistic scenarios and improve the robustness of the predictive model. Following the filtering, proper EDA was performed\n",
    "\n",
    "---"
   ]
  },
  {
   "cell_type": "code",
   "execution_count": 6,
   "metadata": {
    "execution": {
     "iopub.execute_input": "2024-06-13T11:17:49.694731Z",
     "iopub.status.busy": "2024-06-13T11:17:49.694467Z",
     "iopub.status.idle": "2024-06-13T11:18:17.060824Z",
     "shell.execute_reply": "2024-06-13T11:18:17.060233Z",
     "shell.execute_reply.started": "2024-06-13T11:17:49.694696Z"
    },
    "tags": []
   },
   "outputs": [
    {
     "data": {
      "application/vnd.jupyter.widget-view+json": {
       "model_id": "097fa6ea14c64a909765bc7cad4667a1",
       "version_major": 2,
       "version_minor": 0
      },
      "text/plain": [
       "VBox()"
      ]
     },
     "metadata": {},
     "output_type": "display_data"
    },
    {
     "data": {
      "application/vnd.jupyter.widget-view+json": {
       "model_id": "",
       "version_major": 2,
       "version_minor": 0
      },
      "text/plain": [
       "FloatProgress(value=0.0, bar_style='info', description='Progress:', layout=Layout(height='25px', width='50%'),…"
      ]
     },
     "metadata": {},
     "output_type": "display_data"
    }
   ],
   "source": [
    "from pyspark.sql.functions import col\n",
    "\n",
    "agg_df = aggregated_df.filter(\n",
    "    (col('occupancy') <= 1) &\n",
    "    (col('occupancy') > 0) &\n",
    "    (col('average_nights') > 0) &\n",
    "    (col('average_nights') <= 365) &\n",
    "    (col('avg_price') < 1500) &\n",
    "    (col('avg_price')>0)&\n",
    "    (col('average_nights') >0) &\n",
    "    (col('average_nights') <=40)&\n",
    "    (col('avg_price_per_night') <=250)&\n",
    "    (col('avg_price_per_night')>0)&\n",
    "    (col('host_experience') >=0)&\n",
    "    (col('host_experience')<100\n",
    "    ))\n",
    "\n",
    "df_ = agg_df.toPandas()"
   ]
  },
  {
   "cell_type": "code",
   "execution_count": 7,
   "metadata": {
    "execution": {
     "iopub.execute_input": "2024-06-13T11:18:17.062212Z",
     "iopub.status.busy": "2024-06-13T11:18:17.062027Z",
     "iopub.status.idle": "2024-06-13T11:18:17.316787Z",
     "shell.execute_reply": "2024-06-13T11:18:17.316139Z",
     "shell.execute_reply.started": "2024-06-13T11:18:17.062189Z"
    },
    "tags": []
   },
   "outputs": [
    {
     "data": {
      "application/vnd.jupyter.widget-view+json": {
       "model_id": "d8f90805b49d46f0bd1c2cc461c695f6",
       "version_major": 2,
       "version_minor": 0
      },
      "text/plain": [
       "VBox()"
      ]
     },
     "metadata": {},
     "output_type": "display_data"
    },
    {
     "data": {
      "application/vnd.jupyter.widget-view+json": {
       "model_id": "",
       "version_major": 2,
       "version_minor": 0
      },
      "text/plain": [
       "FloatProgress(value=0.0, bar_style='info', description='Progress:', layout=Layout(height='25px', width='50%'),…"
      ]
     },
     "metadata": {},
     "output_type": "display_data"
    },
    {
     "data": {
      "image/png": "[encoded data removed]",
      "text/plain": [
       "<IPython.core.display.Image object>"
      ]
     },
     "metadata": {},
     "output_type": "display_data"
    }
   ],
   "source": [
    "import matplotlib.pyplot as plt\n",
    "plt.close()\n",
    "plt.figure(figsize=(14, 6))\n",
    "plt.hist(df_['occupancy'], bins=20, color='#E74646', edgecolor='black')\n",
    "\n",
    "plt.xlabel('Average occupancy')\n",
    "plt.ylabel('Frequency')\n",
    "plt.title('Histogram of occupancy')\n",
    "plt.grid(True)\n",
    "plt.show()\n",
    "%matplot plt"
   ]
  },
  {
   "cell_type": "markdown",
   "metadata": {},
   "source": [
    "<center><b>Visual 1.</b> occupancy rating spread.</center>"
   ]
  },
  {
   "cell_type": "markdown",
   "metadata": {},
   "source": [
    "The figure above illustrates the distribution of occupancy ratings. Ideally, the majority of the ratings would cluster around the center of the graph, indicating a balanced spread. However, in this case, the highest frequencies are observed at the extreme ends of the graph. \n",
    "\n",
    "There are two potential reasons for occupancy ratings to be on the extreme ends:\n",
    "1. The data has been imputed incorrectly \n",
    "2. These are ***fake listings*** - such listings are made in order to attract customers, take thier money and never actually offer them a place to live$^{[3]}$ \n",
    "\n",
    "This unusual pattern provided further motivation to conduct a comprehensive outlier analysis on the occupancy feature to better understand and address these anomalies, which will be showcased in the next segment."
   ]
  },
  {
   "cell_type": "code",
   "execution_count": 8,
   "metadata": {
    "execution": {
     "iopub.execute_input": "2024-06-13T11:18:17.317932Z",
     "iopub.status.busy": "2024-06-13T11:18:17.317760Z",
     "iopub.status.idle": "2024-06-13T11:18:17.573020Z",
     "shell.execute_reply": "2024-06-13T11:18:17.572297Z",
     "shell.execute_reply.started": "2024-06-13T11:18:17.317909Z"
    },
    "tags": []
   },
   "outputs": [
    {
     "data": {
      "application/vnd.jupyter.widget-view+json": {
       "model_id": "790464fc0e284b13bb220c33b6050879",
       "version_major": 2,
       "version_minor": 0
      },
      "text/plain": [
       "VBox()"
      ]
     },
     "metadata": {},
     "output_type": "display_data"
    },
    {
     "data": {
      "application/vnd.jupyter.widget-view+json": {
       "model_id": "",
       "version_major": 2,
       "version_minor": 0
      },
      "text/plain": [
       "FloatProgress(value=0.0, bar_style='info', description='Progress:', layout=Layout(height='25px', width='50%'),…"
      ]
     },
     "metadata": {},
     "output_type": "display_data"
    },
    {
     "data": {
      "image/png": "[encoded data removed]",
      "text/plain": [
       "<IPython.core.display.Image object>"
      ]
     },
     "metadata": {},
     "output_type": "display_data"
    }
   ],
   "source": [
    "import matplotlib.pyplot as plt\n",
    "plt.close()\n",
    "plt.figure(figsize=(14, 6))\n",
    "plt.hist(df_['host_experience'], bins=20, color='#E74646', edgecolor='black')\n",
    "\n",
    "plt.xlabel('host experience')\n",
    "plt.ylabel('Frequency')\n",
    "plt.title('Histogram of host expereince')\n",
    "plt.grid(True)\n",
    "plt.show()\n",
    "%matplot plt"
   ]
  },
  {
   "cell_type": "markdown",
   "metadata": {},
   "source": [
    "<center><b>visual 2.</b> host experience rating spread.</center>"
   ]
  },
  {
   "cell_type": "markdown",
   "metadata": {},
   "source": [
    "Unlike the previous visual, the host experience does not show any anmalites, indicating no need for outlier analysis."
   ]
  },
  {
   "cell_type": "code",
   "execution_count": 9,
   "metadata": {
    "execution": {
     "iopub.execute_input": "2024-06-13T11:18:17.574256Z",
     "iopub.status.busy": "2024-06-13T11:18:17.574076Z",
     "iopub.status.idle": "2024-06-13T11:18:17.830789Z",
     "shell.execute_reply": "2024-06-13T11:18:17.830042Z",
     "shell.execute_reply.started": "2024-06-13T11:18:17.574232Z"
    },
    "tags": []
   },
   "outputs": [
    {
     "data": {
      "application/vnd.jupyter.widget-view+json": {
       "model_id": "f5e5b875ff5b45c8b50fd49a0fc44038",
       "version_major": 2,
       "version_minor": 0
      },
      "text/plain": [
       "VBox()"
      ]
     },
     "metadata": {},
     "output_type": "display_data"
    },
    {
     "data": {
      "application/vnd.jupyter.widget-view+json": {
       "model_id": "",
       "version_major": 2,
       "version_minor": 0
      },
      "text/plain": [
       "FloatProgress(value=0.0, bar_style='info', description='Progress:', layout=Layout(height='25px', width='50%'),…"
      ]
     },
     "metadata": {},
     "output_type": "display_data"
    },
    {
     "data": {
      "image/png": "[encoded data removed]",
      "text/plain": [
       "<IPython.core.display.Image object>"
      ]
     },
     "metadata": {},
     "output_type": "display_data"
    }
   ],
   "source": [
    "import matplotlib.pyplot as plt\n",
    "plt.close()\n",
    "plt.figure(figsize=(14, 6))\n",
    "plt.hist(df_['average_nights'],bins = 30,  color='#E74646', edgecolor='black')\n",
    "plt.xlabel('Average nights of stay')\n",
    "plt.ylabel('Frequency')\n",
    "plt.title('Histogram of Average Nights of stay')\n",
    "plt.grid(True)\n",
    "plt.show()\n",
    "%matplot plt"
   ]
  },
  {
   "cell_type": "markdown",
   "metadata": {},
   "source": [
    "<center><b>visual 3.</b> Average nights of stay spread.</center>"
   ]
  },
  {
   "cell_type": "markdown",
   "metadata": {},
   "source": [
    "The histogram of the average nights follows a right skewed behaviour and does not display anything out the ordinary."
   ]
  },
  {
   "cell_type": "code",
   "execution_count": 10,
   "metadata": {
    "execution": {
     "iopub.execute_input": "2024-06-13T11:18:17.832256Z",
     "iopub.status.busy": "2024-06-13T11:18:17.832009Z",
     "iopub.status.idle": "2024-06-13T11:18:18.085175Z",
     "shell.execute_reply": "2024-06-13T11:18:18.084416Z",
     "shell.execute_reply.started": "2024-06-13T11:18:17.832220Z"
    },
    "tags": []
   },
   "outputs": [
    {
     "data": {
      "application/vnd.jupyter.widget-view+json": {
       "model_id": "944542435cd046ee94996c7bec4ca9a5",
       "version_major": 2,
       "version_minor": 0
      },
      "text/plain": [
       "VBox()"
      ]
     },
     "metadata": {},
     "output_type": "display_data"
    },
    {
     "data": {
      "application/vnd.jupyter.widget-view+json": {
       "model_id": "",
       "version_major": 2,
       "version_minor": 0
      },
      "text/plain": [
       "FloatProgress(value=0.0, bar_style='info', description='Progress:', layout=Layout(height='25px', width='50%'),…"
      ]
     },
     "metadata": {},
     "output_type": "display_data"
    },
    {
     "data": {
      "image/png": "[encoded data removed]",
      "text/plain": [
       "<IPython.core.display.Image object>"
      ]
     },
     "metadata": {},
     "output_type": "display_data"
    }
   ],
   "source": [
    "import matplotlib.pyplot as plt\n",
    "plt.close()\n",
    "plt.figure(figsize=(14, 6))\n",
    "plt.hist(df_['avg_price_per_night'],bins = 30,  color='#E74646', edgecolor='black')\n",
    "\n",
    "plt.xlabel('Average price')\n",
    "plt.ylabel('Frequency')\n",
    "plt.title('Histogram of Average Price')\n",
    "plt.grid(True)\n",
    "plt.show()\n",
    "%matplot plt"
   ]
  },
  {
   "cell_type": "markdown",
   "metadata": {},
   "source": [
    "<center><b>visual 4.</b> Average price spread.</center>"
   ]
  },
  {
   "cell_type": "markdown",
   "metadata": {},
   "source": [
    "Similar to the visual of average nights, the average price too follows right skewed behaviour. Such behaviour is expected and since there aren't any anomalies being noticed, outlier analysis need not be done for this feature.\n",
    "\n",
    "Following the insights gained from EDA, the authors then moved to conduct outlier analysis."
   ]
  },
  {
   "cell_type": "markdown",
   "metadata": {
    "execution": {
     "iopub.execute_input": "2024-06-08T04:33:28.303374Z",
     "iopub.status.busy": "2024-06-08T04:33:28.303152Z",
     "iopub.status.idle": "2024-06-08T04:33:28.350853Z",
     "shell.execute_reply": "2024-06-08T04:33:28.350122Z",
     "shell.execute_reply.started": "2024-06-08T04:33:28.303350Z"
    },
    "tags": []
   },
   "source": [
    "<a name=\"anomaly\"></a>\n",
    "<h2>Outlier Analysis</h2>\n",
    "<img src=\"decor.png\">\n",
    "\n",
    "\n",
    "Outliers in the data can not only skew the model's prediction power but also hinder it's ability to extract feature importance. To ensure a more robust and accurate model, outlier removal was pivotal in the study's pipeline.\n",
    "\n",
    "After delving into the insights extracted from the occupancy histogram, the authors proceeded with outlier analysis and subsequent removal. Initially experimenting with a `Gaussian Mixture Model`, they encountered challenges due to the absence of distinct clusters. Consequently, they turned to statistical methods for analysis. Calculating the standard deviation and mean for the features, they then computed `z-scores` to identify outliers. Leveraging this information, outliers were systematically eliminated, leading to the creation of a refined dataframe devoid of such anomalies. The threshold was computed by multiplying the standard deviation by a factor of 4\n",
    "\n",
    "Once the outlier removal was completed, both the dataframes were joined using a `broadcast` join"
   ]
  },
  {
   "cell_type": "code",
   "execution_count": 11,
   "metadata": {
    "execution": {
     "iopub.execute_input": "2024-06-13T11:18:18.087062Z",
     "iopub.status.busy": "2024-06-13T11:18:18.086883Z",
     "iopub.status.idle": "2024-06-13T11:18:29.387941Z",
     "shell.execute_reply": "2024-06-13T11:18:29.387311Z",
     "shell.execute_reply.started": "2024-06-13T11:18:18.087038Z"
    },
    "scrolled": true,
    "tags": []
   },
   "outputs": [
    {
     "data": {
      "application/vnd.jupyter.widget-view+json": {
       "model_id": "8e52ebde1c464c3fa33e63618dbb6686",
       "version_major": 2,
       "version_minor": 0
      },
      "text/plain": [
       "VBox()"
      ]
     },
     "metadata": {},
     "output_type": "display_data"
    },
    {
     "data": {
      "application/vnd.jupyter.widget-view+json": {
       "model_id": "",
       "version_major": 2,
       "version_minor": 0
      },
      "text/plain": [
       "FloatProgress(value=0.0, bar_style='info', description='Progress:', layout=Layout(height='25px', width='50%'),…"
      ]
     },
     "metadata": {},
     "output_type": "display_data"
    }
   ],
   "source": [
    "mean_value = agg_df.agg(F.mean(col('occupancy')\n",
    "                              ).alias('mean')).collect()[0]['mean']\n",
    "stddev_value = agg_df.agg(F.stddev(col('occupancy')\n",
    "                                  ).alias('stddev')).collect()[0]['stddev']\n",
    "z_score_threshold = 1.4\n",
    "df_filtered = agg_df.withColumn('z_score', (col('occupancy')\n",
    "                                            - mean_value) / stddev_value) \\\n",
    "    .filter(col('z_score').between(-z_score_threshold\n",
    "                                   , z_score_threshold))\n",
    "broad = broadcast(df_filtered)\n",
    "result_df_1 = words_removed.join(broad,on = 'listing_id', how = 'inner')\n",
    "df_fil = df_filtered.toPandas()"
   ]
  },
  {
   "cell_type": "code",
   "execution_count": 12,
   "metadata": {
    "execution": {
     "iopub.execute_input": "2024-06-13T11:18:29.389408Z",
     "iopub.status.busy": "2024-06-13T11:18:29.389160Z",
     "iopub.status.idle": "2024-06-13T11:18:30.147176Z",
     "shell.execute_reply": "2024-06-13T11:18:30.146462Z",
     "shell.execute_reply.started": "2024-06-13T11:18:29.389374Z"
    },
    "tags": []
   },
   "outputs": [
    {
     "data": {
      "application/vnd.jupyter.widget-view+json": {
       "model_id": "be346108fbd346f3b1db6cf319757f5f",
       "version_major": 2,
       "version_minor": 0
      },
      "text/plain": [
       "VBox()"
      ]
     },
     "metadata": {},
     "output_type": "display_data"
    },
    {
     "data": {
      "application/vnd.jupyter.widget-view+json": {
       "model_id": "",
       "version_major": 2,
       "version_minor": 0
      },
      "text/plain": [
       "FloatProgress(value=0.0, bar_style='info', description='Progress:', layout=Layout(height='25px', width='50%'),…"
      ]
     },
     "metadata": {},
     "output_type": "display_data"
    },
    {
     "data": {
      "image/png": "[encoded data removed]",
      "text/plain": [
       "<IPython.core.display.Image object>"
      ]
     },
     "metadata": {},
     "output_type": "display_data"
    }
   ],
   "source": [
    "import matplotlib.pyplot as plt\n",
    "plt.close()\n",
    "plt.figure(figsize=(14, 6))\n",
    "plt.hist(df_fil['occupancy'],bins = 30,  color='#E74646', edgecolor='black')\n",
    "\n",
    "plt.xlabel('occupancy')\n",
    "plt.ylabel('Frequency')\n",
    "plt.title('Histogram of occupancy after outlier removal')\n",
    "plt.grid(True)\n",
    "plt.show()\n",
    "%matplot plt"
   ]
  },
  {
   "cell_type": "markdown",
   "metadata": {},
   "source": [
    "<center><b>visual 5.</b> Occupancy rating spread post outlier removal.</center>"
   ]
  },
  {
   "cell_type": "markdown",
   "metadata": {},
   "source": [
    "Comparing `Visual 5` and `Visual 1`, it is evident that the application of the `z-score` method for outlier removal has effectively eliminated extreme outliers. This process has resulted in cleaner data, which is more suitable for model development."
   ]
  },
  {
   "cell_type": "markdown",
   "metadata": {
    "tags": []
   },
   "source": [
    "<a name=\"Baseline\"></a>\n",
    "<h2>Setting a Baseline</h2>\n",
    "<img src=\"decor.png\">\n",
    "\n",
    "To establish a benchmark for evaluating the model results, a baseline was created. This baseline serves as a point of comparison to understand the effectiveness and accuracy of the predictive model. The baseline was constructed by calculating the mean of the target column, which represents the average value of the target variable across all data points. This mean value was then used as the prediction for all listings, regardless of their individual features or characteristics.\n",
    "\n",
    "By adopting the mean of the target column as the predicted rating for each listing, a simplistic yet effective baseline model was formulated. This approach assumes that the best prediction one could make without any additional information is the average value. While rudimentary, this method provides a useful benchmark against which more sophisticated models can be measured.\n",
    "\n",
    "Subsequently, the Root Mean Square Error (RMSE) and Mean Absolute Error (MAE) were calculated for this baseline model. These metrics quantify the prediction errors by comparing the baseline predictions to the actual target values. RMSE provides a measure of the average magnitude of the errors, giving higher weight to larger errors, while MAE offers a straightforward average of absolute errors, treating all errors equally.\n",
    "\n",
    "The resulting RMSE and MAE values from the baseline model serve as crucial benchmarks. They provide a clear indication of the minimum performance level that any developed model should surpass. \n",
    "\n",
    "The results are as below:\n",
    "\n",
    "| Baseline |        MAE        |        RMSE        |\n",
    "|----------|--------------------|---------------------|\n",
    "|   Value  | 0.32 | 0.41 |\n",
    "\n",
    "<center><b>Table 6.</b> Baseline mae and rmse</center>"
   ]
  },
  {
   "cell_type": "code",
   "execution_count": 13,
   "metadata": {
    "execution": {
     "iopub.execute_input": "2024-06-13T11:18:30.148510Z",
     "iopub.status.busy": "2024-06-13T11:18:30.148253Z",
     "iopub.status.idle": "2024-06-13T11:18:33.418332Z",
     "shell.execute_reply": "2024-06-13T11:18:33.417698Z",
     "shell.execute_reply.started": "2024-06-13T11:18:30.148472Z"
    },
    "tags": []
   },
   "outputs": [
    {
     "data": {
      "application/vnd.jupyter.widget-view+json": {
       "model_id": "2a6e0d847ed44c32a046e92f175e24ef",
       "version_major": 2,
       "version_minor": 0
      },
      "text/plain": [
       "VBox()"
      ]
     },
     "metadata": {},
     "output_type": "display_data"
    },
    {
     "data": {
      "application/vnd.jupyter.widget-view+json": {
       "model_id": "",
       "version_major": 2,
       "version_minor": 0
      },
      "text/plain": [
       "FloatProgress(value=0.0, bar_style='info', description='Progress:', layout=Layout(height='25px', width='50%'),…"
      ]
     },
     "metadata": {},
     "output_type": "display_data"
    }
   ],
   "source": [
    "mean = df_filtered.select(avg('occupancy')).first()[0]\n",
    "from pyspark.sql.functions import lit\n",
    "df_baseline = df_filtered.withColumn('baseline', lit(mean))\n",
    "df_baseline = df_baseline.dropna(how = 'any')\n",
    "#list = ['mae', 'rmse']\n",
    "eval_ = RegressionEvaluator(predictionCol = 'baseline',\n",
    "                                         labelCol = 'occupancy',\n",
    "                                         metricName = 'mae')\n",
    "eval_r = RegressionEvaluator(predictionCol = 'baseline',\n",
    "                                         labelCol = 'occupancy',\n",
    "                                         metricName = 'rmse')\n",
    "mae = eval_.evaluate(df_baseline)\n",
    "rmse = eval_r.evaluate(df_baseline)"
   ]
  },
  {
   "cell_type": "markdown",
   "metadata": {
    "tags": []
   },
   "source": [
    "<a name=\"train\"></a>\n",
    "<h2>Training and Hypertuning Model</h2>\n",
    "<img src=\"decor.png\">\n",
    "\n",
    "\n",
    "\n",
    "Once the data was fully aggregated and filtered, the final feature columns were selected, and a subsequent Parquet file was created to mitigate memory and run-time issues. This parquet file contains the joined version of the listings and reviews dataset. The parquet files contains two columns, one of the vector assembled features column and the other of the target. The columns used for this were the features and target for the model training, they are as below:\n",
    "\n",
    "| features                                              | occupancy |\n",
    "|-------------------------------------------------------|-----------|\n",
    "| [19.43299711815562, 7.191483516483516, 4.14328...    | 0.089463  |\n",
    "| [20.180174563591024, 84.0592261904762, 80.2, 4...    | 0.653082  |\n",
    "| [29.503496503496503, 10.115857142857143, 22.86...    | 0.330137  |\n",
    "| [14.528338927237034, 65.0, 98.68125, 8.5187755...    | 0.059603  |\n",
    "| [23.654019873532068, 12.631608422939069, 4.865...    | 0.194082  |\n",
    "<center><b>Table 7.</b> Dataframe for ML model training</center>\n",
    "\n",
    "---\n",
    "\n",
    "\n",
    "The features used in the final model were:\n",
    "| Feature Name            |                                         \n",
    "|-------------------------|\n",
    "| avg_len_reviews         |\n",
    "| avg_price_per_night     | \n",
    "| host_experience         | \n",
    "| avg_reviews_per_month   |\n",
    "| average_nights          | \n",
    "<center><b>Table 8.</b> Features for model training</center>"
   ]
  },
  {
   "cell_type": "markdown",
   "metadata": {},
   "source": [
    "This Parquet file was then reloaded, providing a streamlined and efficient dataset for further analysis. A CrossValidator was then established to fine-tune the machine learning model. The components of the CrossValidator included:\n",
    "\n",
    "1. Model - `RandomForest Regressor` model with the target column as `occupancy`\n",
    "2. evaluator = `RegressionEvaluator` with metrics `rmse` and `mae`\n",
    "\n",
    "3. parameter grid - `max depth` of 2 - 10 and `number of trees` 30-50\n",
    "\n",
    "4. Number of folds - `3` to ensure that the model does not overfit\n",
    "\n",
    "The use of a CrossValidator ensures that the model is trained and validated across multiple subsets of the data, providing a comprehensive assessment of its performance and aiding in the selection of the best hyperparameters for optimal prediction accuracy. With the cross validator in place, the data was split into a 70-30 train/test split and subsequent model training was conducted.\n",
    "\n",
    "The results of the best model were:\n",
    "\n",
    "| Hypertuned RF model |        MAE        |        RMSE        |\n",
    "|----------|--------------------|---------------------|\n",
    "|   Value  | 0.23 | 0.27 |\n",
    "<center><b>Table 9.</b> Best model results</center>"
   ]
  },
  {
   "cell_type": "code",
   "execution_count": 6,
   "metadata": {
    "collapsed": true,
    "execution": {
     "iopub.execute_input": "2024-06-13T11:37:13.531669Z",
     "iopub.status.busy": "2024-06-13T11:37:13.531482Z",
     "iopub.status.idle": "2024-06-13T11:37:20.831884Z",
     "shell.execute_reply": "2024-06-13T11:37:20.831240Z",
     "shell.execute_reply.started": "2024-06-13T11:37:13.531645Z"
    },
    "jupyter": {
     "outputs_hidden": true
    },
    "scrolled": true,
    "tags": []
   },
   "outputs": [
    {
     "data": {
      "application/vnd.jupyter.widget-view+json": {
       "model_id": "5cc8650fa79b487c95b071e599c72461",
       "version_major": 2,
       "version_minor": 0
      },
      "text/plain": [
       "VBox()"
      ]
     },
     "metadata": {},
     "output_type": "display_data"
    },
    {
     "data": {
      "application/vnd.jupyter.widget-view+json": {
       "model_id": "",
       "version_major": 2,
       "version_minor": 0
      },
      "text/plain": [
       "FloatProgress(value=0.0, bar_style='info', description='Progress:', layout=Layout(height='25px', width='50%'),…"
      ]
     },
     "metadata": {},
     "output_type": "display_data"
    },
    {
     "name": "stdout",
     "output_type": "stream",
     "text": [
      "                                            features  occupancy\n",
      "0  [19.43299711815562, 7.191483516483516, 4.14328...   0.089463\n",
      "1  [20.180174563591024, 84.0592261904762, 80.2, 4...   0.653082\n",
      "2  [29.503496503496503, 10.115857142857143, 22.86...   0.330137\n",
      "3  [14.528338927237034, 65.0, 98.68125, 8.5187755...   0.059603\n",
      "4  [23.654019873532068, 12.631608422939069, 4.865...   0.194082"
     ]
    }
   ],
   "source": [
    "spark.read.parquet('s3://bigdatabucket25/e-M1KJBZ3J7W2M8EV089382575/ML.parquet').limit(5).toPandas()"
   ]
  },
  {
   "cell_type": "code",
   "execution_count": 7,
   "metadata": {
    "collapsed": true,
    "execution": {
     "iopub.execute_input": "2024-06-13T11:37:20.833255Z",
     "iopub.status.busy": "2024-06-13T11:37:20.833072Z",
     "iopub.status.idle": "2024-06-13T11:37:23.119486Z",
     "shell.execute_reply": "2024-06-13T11:37:23.118636Z",
     "shell.execute_reply.started": "2024-06-13T11:37:20.833230Z"
    },
    "jupyter": {
     "outputs_hidden": true
    },
    "scrolled": true,
    "tags": []
   },
   "outputs": [
    {
     "data": {
      "application/vnd.jupyter.widget-view+json": {
       "model_id": "03c66bfe91aa41ca85ea8c764a579545",
       "version_major": 2,
       "version_minor": 0
      },
      "text/plain": [
       "VBox()"
      ]
     },
     "metadata": {},
     "output_type": "display_data"
    },
    {
     "data": {
      "application/vnd.jupyter.widget-view+json": {
       "model_id": "",
       "version_major": 2,
       "version_minor": 0
      },
      "text/plain": [
       "FloatProgress(value=0.0, bar_style='info', description='Progress:', layout=Layout(height='25px', width='50%'),…"
      ]
     },
     "metadata": {},
     "output_type": "display_data"
    }
   ],
   "source": [
    "df_final = spark.read.parquet('s3://bigdatabucket25/e-M1KJBZ3J7W2M8EV089382575/ML.parquet')"
   ]
  },
  {
   "cell_type": "code",
   "execution_count": 8,
   "metadata": {
    "collapsed": true,
    "execution": {
     "iopub.execute_input": "2024-06-13T11:37:23.121106Z",
     "iopub.status.busy": "2024-06-13T11:37:23.120864Z",
     "iopub.status.idle": "2024-06-13T11:37:23.407762Z",
     "shell.execute_reply": "2024-06-13T11:37:23.407083Z",
     "shell.execute_reply.started": "2024-06-13T11:37:23.121068Z"
    },
    "jupyter": {
     "outputs_hidden": true
    },
    "tags": []
   },
   "outputs": [
    {
     "data": {
      "application/vnd.jupyter.widget-view+json": {
       "model_id": "3f98f5b5c4d5426594f8077352868528",
       "version_major": 2,
       "version_minor": 0
      },
      "text/plain": [
       "VBox()"
      ]
     },
     "metadata": {},
     "output_type": "display_data"
    },
    {
     "data": {
      "application/vnd.jupyter.widget-view+json": {
       "model_id": "",
       "version_major": 2,
       "version_minor": 0
      },
      "text/plain": [
       "FloatProgress(value=0.0, bar_style='info', description='Progress:', layout=Layout(height='25px', width='50%'),…"
      ]
     },
     "metadata": {},
     "output_type": "display_data"
    }
   ],
   "source": [
    "\n",
    "rf = RandomForestRegressor(featuresCol = 'features',\n",
    "                                     labelCol = 'occupancy')\n",
    "evaluator = RegressionEvaluator(labelCol='occupancy', metricName='rmse')\n",
    "param_grid = ParamGridBuilder() \\\n",
    "    .addGrid(rf.maxDepth, [2, 10]) \\\n",
    "    .addGrid(rf.numTrees, [10, 50]) \\\n",
    "    .build()\n",
    "cross_val = CrossValidator(estimator=rf,\n",
    "                           estimatorParamMaps=param_grid,\n",
    "                           evaluator=evaluator,\n",
    "                           numFolds=3)\n",
    "train, test = df_final.randomSplit([0.7, 0.3])\n",
    "del df_final"
   ]
  },
  {
   "cell_type": "code",
   "execution_count": 9,
   "metadata": {
    "collapsed": true,
    "execution": {
     "iopub.execute_input": "2024-06-13T11:37:23.408905Z",
     "iopub.status.busy": "2024-06-13T11:37:23.408713Z",
     "iopub.status.idle": "2024-06-13T11:39:29.430558Z",
     "shell.execute_reply": "2024-06-13T11:39:29.429864Z",
     "shell.execute_reply.started": "2024-06-13T11:37:23.408880Z"
    },
    "jupyter": {
     "outputs_hidden": true
    },
    "tags": []
   },
   "outputs": [
    {
     "data": {
      "application/vnd.jupyter.widget-view+json": {
       "model_id": "4700e3188e3b4107906bd46c95996d8d",
       "version_major": 2,
       "version_minor": 0
      },
      "text/plain": [
       "VBox()"
      ]
     },
     "metadata": {},
     "output_type": "display_data"
    },
    {
     "data": {
      "application/vnd.jupyter.widget-view+json": {
       "model_id": "",
       "version_major": 2,
       "version_minor": 0
      },
      "text/plain": [
       "FloatProgress(value=0.0, bar_style='info', description='Progress:', layout=Layout(height='25px', width='50%'),…"
      ]
     },
     "metadata": {},
     "output_type": "display_data"
    },
    {
     "name": "stderr",
     "output_type": "stream",
     "text": [
      "Exception in thread cell_monitor-9:\n",
      "Traceback (most recent call last):\n",
      "  File \"/mnt/notebook-env/lib/python3.9/threading.py\", line 980, in _bootstrap_inner\n",
      "    self.run()\n",
      "  File \"/mnt/notebook-env/lib/python3.9/threading.py\", line 917, in run\n",
      "    self._target(*self._args, **self._kwargs)\n",
      "  File \"/mnt/notebook-env/lib/python3.9/site-packages/awseditorssparkmonitoringwidget/cellmonitor.py\", line 154, in cell_monitor\n",
      "    job_group_filtered_jobs = [job for job in jobs_data if job['jobGroup'] == str(statement_id)]\n",
      "  File \"/mnt/notebook-env/lib/python3.9/site-packages/awseditorssparkmonitoringwidget/cellmonitor.py\", line 154, in <listcomp>\n",
      "    job_group_filtered_jobs = [job for job in jobs_data if job['jobGroup'] == str(statement_id)]\n",
      "KeyError: 'jobGroup'\n"
     ]
    }
   ],
   "source": [
    "test_mod = cross_val.fit(train)\n",
    "preds = test_mod.transform(test)\n",
    "eval_ = RegressionEvaluator(predictionCol = 'prediction',\n",
    "                                         labelCol = 'occupancy',\n",
    "                                         metricName = 'mae')\n",
    "eval_r = RegressionEvaluator(predictionCol = 'prediction',\n",
    "                                         labelCol = 'occupancy',\n",
    "                                         metricName = 'rmse')\n",
    "mae = eval_.evaluate(preds)\n",
    "rmse = eval_r.evaluate(preds)"
   ]
  },
  {
   "cell_type": "code",
   "execution_count": 12,
   "metadata": {
    "collapsed": true,
    "execution": {
     "iopub.execute_input": "2024-06-13T11:44:01.834956Z",
     "iopub.status.busy": "2024-06-13T11:44:01.834626Z",
     "iopub.status.idle": "2024-06-13T11:44:01.890631Z",
     "shell.execute_reply": "2024-06-13T11:44:01.890043Z",
     "shell.execute_reply.started": "2024-06-13T11:44:01.834915Z"
    },
    "jupyter": {
     "outputs_hidden": true
    },
    "tags": []
   },
   "outputs": [
    {
     "data": {
      "application/vnd.jupyter.widget-view+json": {
       "model_id": "12f9b3bbd1b14ced876a91ef3b0d8ccf",
       "version_major": 2,
       "version_minor": 0
      },
      "text/plain": [
       "VBox()"
      ]
     },
     "metadata": {},
     "output_type": "display_data"
    },
    {
     "data": {
      "application/vnd.jupyter.widget-view+json": {
       "model_id": "",
       "version_major": 2,
       "version_minor": 0
      },
      "text/plain": [
       "FloatProgress(value=0.0, bar_style='info', description='Progress:', layout=Layout(height='25px', width='50%'),…"
      ]
     },
     "metadata": {},
     "output_type": "display_data"
    },
    {
     "name": "stderr",
     "output_type": "stream",
     "text": [
      "Exception in thread cell_monitor-12:\n",
      "Traceback (most recent call last):\n",
      "  File \"/mnt/notebook-env/lib/python3.9/threading.py\", line 980, in _bootstrap_inner\n",
      "    self.run()\n",
      "  File \"/mnt/notebook-env/lib/python3.9/threading.py\", line 917, in run\n",
      "    self._target(*self._args, **self._kwargs)\n",
      "  File \"/mnt/notebook-env/lib/python3.9/site-packages/awseditorssparkmonitoringwidget/cellmonitor.py\", line 154, in cell_monitor\n",
      "    job_group_filtered_jobs = [job for job in jobs_data if job['jobGroup'] == str(statement_id)]\n",
      "  File \"/mnt/notebook-env/lib/python3.9/site-packages/awseditorssparkmonitoringwidget/cellmonitor.py\", line 154, in <listcomp>\n",
      "    job_group_filtered_jobs = [job for job in jobs_data if job['jobGroup'] == str(statement_id)]\n",
      "KeyError: 'jobGroup'\n"
     ]
    },
    {
     "name": "stdout",
     "output_type": "stream",
     "text": [
      "0.2376395376692768 0.2737318114096607"
     ]
    }
   ],
   "source": [
    "print(mae, rmse)"
   ]
  },
  {
   "cell_type": "markdown",
   "metadata": {},
   "source": [
    "<a name=\"imp\"></a>\n",
    "<h2>Feature importances</h2>\n",
    "<img src=\"decor.png\">\n",
    "\n",
    "After finalizing the model training phase and selecting the optimal model, the researchers proceeded to extract the feature importances. This critical step aimed to unveil the underlying factors influencing the model's predictions, thereby facilitating a deeper comprehension of the decision-making process. By deciphering what precisely drives the model's predictions, valuable insights were gleaned, enabling the identification of actionable strategies to assist hosts effectively.\n",
    "\n",
    "While storing the parquet file, the columns were stored in this order:\n",
    "\n",
    "1. Average price per night\n",
    "2. Average len of reviews\n",
    "3. Minimum nights stay\n",
    "4. Average reviews per month\n",
    "5. Host experience\n",
    "\n",
    "The feature importance was then mapped to the number on the index of the result.\n",
    "\n",
    "The ***top 3*** features were:\n",
    "\n",
    "\n",
    "\n",
    "| Feature |        MAE        |  \n",
    "|----------|--------------------|\n",
    "|   Host experience  | 33% |\n",
    "|Average price per night|18%|\n",
    "|Minimum nights stay|19%|\n",
    "<center><b>Table 9.</b> Top three predictors</center>\n",
    "\n",
    "Mapping the features back to their formula, it can be notcied that all of these features are actionable and are aspects hosts can alter to change their occupancy"
   ]
  },
  {
   "cell_type": "code",
   "execution_count": 11,
   "metadata": {
    "collapsed": true,
    "execution": {
     "iopub.execute_input": "2024-06-13T11:39:29.486719Z",
     "iopub.status.busy": "2024-06-13T11:39:29.486465Z",
     "iopub.status.idle": "2024-06-13T11:39:29.754478Z",
     "shell.execute_reply": "2024-06-13T11:39:29.753829Z",
     "shell.execute_reply.started": "2024-06-13T11:39:29.486680Z"
    },
    "jupyter": {
     "outputs_hidden": true
    },
    "scrolled": true,
    "tags": []
   },
   "outputs": [
    {
     "data": {
      "application/vnd.jupyter.widget-view+json": {
       "model_id": "14108318975545e6af3f0d3ce9d13b13",
       "version_major": 2,
       "version_minor": 0
      },
      "text/plain": [
       "VBox()"
      ]
     },
     "metadata": {},
     "output_type": "display_data"
    },
    {
     "name": "stderr",
     "output_type": "stream",
     "text": [
      "Exception in thread cell_monitor-10:\n",
      "Traceback (most recent call last):\n",
      "  File \"/mnt/notebook-env/lib/python3.9/threading.py\", line 980, in _bootstrap_inner\n",
      "    self.run()\n",
      "  File \"/mnt/notebook-env/lib/python3.9/threading.py\", line 917, in run\n",
      "    self._target(*self._args, **self._kwargs)\n",
      "  File \"/mnt/notebook-env/lib/python3.9/site-packages/awseditorssparkmonitoringwidget/cellmonitor.py\", line 154, in cell_monitor\n",
      "    job_group_filtered_jobs = [job for job in jobs_data if job['jobGroup'] == str(statement_id)]\n",
      "  File \"/mnt/notebook-env/lib/python3.9/site-packages/awseditorssparkmonitoringwidget/cellmonitor.py\", line 154, in <listcomp>\n",
      "    job_group_filtered_jobs = [job for job in jobs_data if job['jobGroup'] == str(statement_id)]\n",
      "KeyError: 'jobGroup'\n"
     ]
    },
    {
     "data": {
      "application/vnd.jupyter.widget-view+json": {
       "model_id": "",
       "version_major": 2,
       "version_minor": 0
      },
      "text/plain": [
       "FloatProgress(value=0.0, bar_style='info', description='Progress:', layout=Layout(height='25px', width='50%'),…"
      ]
     },
     "metadata": {},
     "output_type": "display_data"
    },
    {
     "name": "stderr",
     "output_type": "stream",
     "text": [
      "Exception in thread cell_monitor-11:\n",
      "Traceback (most recent call last):\n",
      "  File \"/mnt/notebook-env/lib/python3.9/threading.py\", line 980, in _bootstrap_inner\n",
      "    self.run()\n",
      "  File \"/mnt/notebook-env/lib/python3.9/threading.py\", line 917, in run\n",
      "    self._target(*self._args, **self._kwargs)\n",
      "  File \"/mnt/notebook-env/lib/python3.9/site-packages/awseditorssparkmonitoringwidget/cellmonitor.py\", line 154, in cell_monitor\n",
      "    job_group_filtered_jobs = [job for job in jobs_data if job['jobGroup'] == str(statement_id)]\n",
      "  File \"/mnt/notebook-env/lib/python3.9/site-packages/awseditorssparkmonitoringwidget/cellmonitor.py\", line 154, in <listcomp>\n",
      "    job_group_filtered_jobs = [job for job in jobs_data if job['jobGroup'] == str(statement_id)]\n",
      "KeyError: 'jobGroup'\n"
     ]
    },
    {
     "name": "stdout",
     "output_type": "stream",
     "text": [
      "SparseVector(5, {0: 0.1876, 1: 0.1773, 2: 0.1905, 3: 0.1187, 4: 0.3258})"
     ]
    }
   ],
   "source": [
    "best_rf_model = test_mod.bestModel\n",
    "importances = best_rf_model.featureImportances\n",
    "importances"
   ]
  },
  {
   "cell_type": "markdown",
   "metadata": {
    "execution": {
     "iopub.execute_input": "2024-06-13T06:55:14.180368Z",
     "iopub.status.busy": "2024-06-13T06:55:14.180142Z",
     "iopub.status.idle": "2024-06-13T06:55:14.226248Z",
     "shell.execute_reply": "2024-06-13T06:55:14.225655Z",
     "shell.execute_reply.started": "2024-06-13T06:55:14.180344Z"
    },
    "tags": []
   },
   "source": [
    "<a name=\"conc\"></a>\n",
    "<h2>Conclusion</h2>\n",
    "<img src=\"decor.png\">\n",
    "\n",
    "\n",
    "| Model |        MAE        |        RMSE        |\n",
    "|----------|--------------------|---------------------|\n",
    "|   Baseline  | 0.32 | 0.41 |\n",
    "|Our model|0.23|0.27|\n",
    "<center><b>Table 10.</b> Model Comparison</center>\n",
    "\n",
    "1. Comparing the two above, the authors successfully developed a model capable of predicting occupancy ratings with significantly greater accuracy than the baseline. Despite the lack on actionable features, features were derived and by rigorous forms of data pre processing and outlier removal, a robust Random Forest model was created.\n",
    "\n",
    "2. By utilizing the model, the authors were able to extract feature importances, providing valuable insights into the primary factors influencing occupancy ratings. This analysis revealed potential strategies for assisting hosts, demonstrating the practical applications and benefits of turning this model into a real-world product."
   ]
  },
  {
   "cell_type": "markdown",
   "metadata": {
    "jp-MarkdownHeadingCollapsed": true,
    "tags": []
   },
   "source": [
    "<a name=\"reco\"></a>\n",
    "<h2>Recommendations</h2>\n",
    "<img src=\"decor.png\">\n",
    "\n",
    "\n",
    "1. **Expand Feature Set**: The study was conducted using a limited set of features. The authors believe that incorporating more relevant features, as well as features that complement the existing ones, could not only enhance model performance but also provide deeper insights into the factors influencing occupancy rates. A richer feature set could capture more nuances and improve predictive accuracy.\n",
    "\n",
    "2. **Region-Wise Analysis**: The authors recommend conducting region-specific analyses. While this study encompassed listings from across the globe, it is evident that Airbnb properties vary significantly by location. Different regions have unique characteristics, such as types of accommodations, amenities, tourist attractions, and visitor demographics. By segregating the data into distinct regions, more accurate and region-specific ML models can be developed, offering personalized insights that could greatly benefit hosts by catering to their unique regional dynamics.\n",
    "\n",
    "3. **Segregate by Room Types**: The study did not account for variations in room types due to encoding errors. The authors suggest conducting separate analyses based on room types. Recognizing the differences between various room categories could yield more precise results and actionable insights. Understanding the specific dynamics of each room type can help tailor strategies to optimize occupancy and enhance overall performance.\n",
    "\n",
    "By addressing these recommendations, future research can build on the current study's findings to create more robust models and provide more targeted insights, ultimately helping Airbnb hosts maximize their occupancy rates and profitability."
   ]
  },
  {
   "cell_type": "markdown",
   "metadata": {},
   "source": [
    "<a name=\"ref\"></a>\n",
    "<h2>References</h2>\n",
    "<img src=\"decor.png\">\n",
    "\n",
    "1. “Navigating the Airbnb Bust: A Comprehensive Guide to Seizing Opportunities! | IGMS.” IGMS, 29 Sept. 2023, www.igms.com/airbnb-bust/.\n",
    "\n",
    "2. “Airbnb Revenue 2018-2023 | ABNB.” Macrotrends.net, 2018, www.macrotrends.net/stocks/charts/ABNB/airbnb/revenue.\n",
    "\n",
    "\n",
    "3. Chloë Nannestad. “Airbnb Scams: The 5 Most Common Ones and How to Avoid Them.” Reader’s Digest, 24 Apr. 2021, www.rd.com/article/airbnb-scams/."
   ]
  },
  {
   "cell_type": "markdown",
   "metadata": {
    "execution": {
     "iopub.execute_input": "2024-06-13T13:34:54.864788Z",
     "iopub.status.busy": "2024-06-13T13:34:54.864098Z",
     "iopub.status.idle": "2024-06-13T13:34:54.874415Z",
     "shell.execute_reply": "2024-06-13T13:34:54.872524Z",
     "shell.execute_reply.started": "2024-06-13T13:34:54.864731Z"
    }
   },
   "source": [
    "<a name=\"disclosure\"></a>\n",
    "<h2>Disclosure</h2>\n",
    "<img src=\"decor.png\">\n",
    "\n",
    "1. Chatgpt was used to aid in writing this report\n",
    "2. The project was done in AWS but report creation was done in jojie "
   ]
  },
  {
   "cell_type": "code",
   "execution_count": null,
   "metadata": {},
   "outputs": [],
   "source": []
  }
 ],
 "metadata": {
  "kernelspec": {
   "display_name": "Python 3 (ipykernel)",
   "language": "python",
   "name": "python3"
  },
  "language_info": {
   "codemirror_mode": {
    "name": "ipython",
    "version": 3
   },
   "file_extension": ".py",
   "mimetype": "text/x-python",
   "name": "python",
   "nbconvert_exporter": "python",
   "pygments_lexer": "ipython3",
   "version": "3.11.8"
  }
 },
 "nbformat": 4,
 "nbformat_minor": 4
}
